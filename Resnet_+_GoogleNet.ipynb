{
  "cells": [
    {
      "cell_type": "code",
      "source": [
        "from google.colab import drive\n",
        "drive.mount('/content/drive')"
      ],
      "metadata": {
        "colab": {
          "base_uri": "https://localhost:8080/"
        },
        "id": "IOZoCer3Jey0",
        "outputId": "24c42b97-fffa-4c3c-eded-98431beddc4c"
      },
      "execution_count": 1,
      "outputs": [
        {
          "output_type": "stream",
          "name": "stdout",
          "text": [
            "Drive already mounted at /content/drive; to attempt to forcibly remount, call drive.mount(\"/content/drive\", force_remount=True).\n"
          ]
        }
      ]
    },
    {
      "cell_type": "code",
      "source": [
        "!pip uninstall librosa\n"
      ],
      "metadata": {
        "colab": {
          "base_uri": "https://localhost:8080/"
        },
        "id": "lgj8yVxsgSMb",
        "outputId": "e21f6adb-a4dc-42d7-9069-55b8d68aa7f9"
      },
      "execution_count": 33,
      "outputs": [
        {
          "output_type": "stream",
          "name": "stdout",
          "text": [
            "Found existing installation: librosa 0.10.1\n",
            "Uninstalling librosa-0.10.1:\n",
            "  Would remove:\n",
            "    /usr/local/lib/python3.10/dist-packages/librosa-0.10.1.dist-info/*\n",
            "    /usr/local/lib/python3.10/dist-packages/librosa/*\n",
            "  Would not remove (might be manually added):\n",
            "    /usr/local/lib/python3.10/dist-packages/librosa/core/__pycache__/audio._zc_wrapper-1152.py310.1.nbc\n",
            "    /usr/local/lib/python3.10/dist-packages/librosa/core/__pycache__/audio._zc_wrapper-1152.py310.2.nbc\n",
            "    /usr/local/lib/python3.10/dist-packages/librosa/core/__pycache__/audio._zc_wrapper-1152.py310.nbi\n",
            "    /usr/local/lib/python3.10/dist-packages/librosa/core/__pycache__/guf-audio._zc_wrapper-1152.py310.1.nbc\n",
            "    /usr/local/lib/python3.10/dist-packages/librosa/core/__pycache__/guf-audio._zc_wrapper-1152.py310.2.nbc\n",
            "    /usr/local/lib/python3.10/dist-packages/librosa/core/__pycache__/guf-audio._zc_wrapper-1152.py310.nbi\n",
            "    /usr/local/lib/python3.10/dist-packages/librosa/core/__pycache__/guf-pitch._pi_wrapper-439.py310.1.nbc\n",
            "    /usr/local/lib/python3.10/dist-packages/librosa/core/__pycache__/guf-pitch._pi_wrapper-439.py310.2.nbc\n",
            "    /usr/local/lib/python3.10/dist-packages/librosa/core/__pycache__/guf-pitch._pi_wrapper-439.py310.nbi\n",
            "    /usr/local/lib/python3.10/dist-packages/librosa/core/__pycache__/pitch._pi_wrapper-439.py310.1.nbc\n",
            "    /usr/local/lib/python3.10/dist-packages/librosa/core/__pycache__/pitch._pi_wrapper-439.py310.2.nbc\n",
            "    /usr/local/lib/python3.10/dist-packages/librosa/core/__pycache__/pitch._pi_wrapper-439.py310.nbi\n",
            "    /usr/local/lib/python3.10/dist-packages/librosa/util/__pycache__/guf-utils._localmax-1051.py310.1.nbc\n",
            "    /usr/local/lib/python3.10/dist-packages/librosa/util/__pycache__/guf-utils._localmax-1051.py310.2.nbc\n",
            "    /usr/local/lib/python3.10/dist-packages/librosa/util/__pycache__/guf-utils._localmax-1051.py310.3.nbc\n",
            "    /usr/local/lib/python3.10/dist-packages/librosa/util/__pycache__/guf-utils._localmax-1051.py310.4.nbc\n",
            "    /usr/local/lib/python3.10/dist-packages/librosa/util/__pycache__/guf-utils._localmax-1051.py310.5.nbc\n",
            "    /usr/local/lib/python3.10/dist-packages/librosa/util/__pycache__/guf-utils._localmax-1051.py310.nbi\n",
            "    /usr/local/lib/python3.10/dist-packages/librosa/util/__pycache__/guf-utils._localmin-1068.py310.1.nbc\n",
            "    /usr/local/lib/python3.10/dist-packages/librosa/util/__pycache__/guf-utils._localmin-1068.py310.2.nbc\n",
            "    /usr/local/lib/python3.10/dist-packages/librosa/util/__pycache__/guf-utils._localmin-1068.py310.3.nbc\n",
            "    /usr/local/lib/python3.10/dist-packages/librosa/util/__pycache__/guf-utils._localmin-1068.py310.4.nbc\n",
            "    /usr/local/lib/python3.10/dist-packages/librosa/util/__pycache__/guf-utils._localmin-1068.py310.5.nbc\n",
            "    /usr/local/lib/python3.10/dist-packages/librosa/util/__pycache__/guf-utils._localmin-1068.py310.nbi\n",
            "    /usr/local/lib/python3.10/dist-packages/librosa/util/__pycache__/utils._cabs2-2448.py310.1.nbc\n",
            "    /usr/local/lib/python3.10/dist-packages/librosa/util/__pycache__/utils._cabs2-2448.py310.2.nbc\n",
            "    /usr/local/lib/python3.10/dist-packages/librosa/util/__pycache__/utils._cabs2-2448.py310.nbi\n",
            "    /usr/local/lib/python3.10/dist-packages/librosa/util/__pycache__/utils._localmax-1051.py310.1.nbc\n",
            "    /usr/local/lib/python3.10/dist-packages/librosa/util/__pycache__/utils._localmax-1051.py310.2.nbc\n",
            "    /usr/local/lib/python3.10/dist-packages/librosa/util/__pycache__/utils._localmax-1051.py310.3.nbc\n",
            "    /usr/local/lib/python3.10/dist-packages/librosa/util/__pycache__/utils._localmax-1051.py310.4.nbc\n",
            "    /usr/local/lib/python3.10/dist-packages/librosa/util/__pycache__/utils._localmax-1051.py310.5.nbc\n",
            "    /usr/local/lib/python3.10/dist-packages/librosa/util/__pycache__/utils._localmax-1051.py310.nbi\n",
            "    /usr/local/lib/python3.10/dist-packages/librosa/util/__pycache__/utils._localmin-1068.py310.1.nbc\n",
            "    /usr/local/lib/python3.10/dist-packages/librosa/util/__pycache__/utils._localmin-1068.py310.2.nbc\n",
            "    /usr/local/lib/python3.10/dist-packages/librosa/util/__pycache__/utils._localmin-1068.py310.3.nbc\n",
            "    /usr/local/lib/python3.10/dist-packages/librosa/util/__pycache__/utils._localmin-1068.py310.4.nbc\n",
            "    /usr/local/lib/python3.10/dist-packages/librosa/util/__pycache__/utils._localmin-1068.py310.5.nbc\n",
            "    /usr/local/lib/python3.10/dist-packages/librosa/util/__pycache__/utils._localmin-1068.py310.nbi\n",
            "    /usr/local/lib/python3.10/dist-packages/librosa/util/__pycache__/utils._phasor_angles-2500.py310.1.nbc\n",
            "    /usr/local/lib/python3.10/dist-packages/librosa/util/__pycache__/utils._phasor_angles-2500.py310.2.nbc\n",
            "    /usr/local/lib/python3.10/dist-packages/librosa/util/__pycache__/utils._phasor_angles-2500.py310.nbi\n",
            "Proceed (Y/n)? Y\n",
            "  Successfully uninstalled librosa-0.10.1\n"
          ]
        }
      ]
    },
    {
      "cell_type": "code",
      "source": [
        "!pip install librosa"
      ],
      "metadata": {
        "colab": {
          "base_uri": "https://localhost:8080/",
          "height": 633
        },
        "id": "MUJOtST8gb26",
        "outputId": "3b9dbcf6-7ecc-469e-f70d-f65ca413bc34"
      },
      "execution_count": 34,
      "outputs": [
        {
          "output_type": "stream",
          "name": "stdout",
          "text": [
            "Collecting librosa\n",
            "  Downloading librosa-0.10.1-py3-none-any.whl (253 kB)\n",
            "\u001b[?25l     \u001b[90m━━━━━━━━━━━━━━━━━━━━━━━━━━━━━━━━━━━━━━━━\u001b[0m \u001b[32m0.0/253.7 kB\u001b[0m \u001b[31m?\u001b[0m eta \u001b[36m-:--:--\u001b[0m\r\u001b[2K     \u001b[91m━━━━━━━━━━━━━━\u001b[0m\u001b[91m╸\u001b[0m\u001b[90m━━━━━━━━━━━━━━━━━━━━━━━━━\u001b[0m \u001b[32m92.2/253.7 kB\u001b[0m \u001b[31m2.6 MB/s\u001b[0m eta \u001b[36m0:00:01\u001b[0m\r\u001b[2K     \u001b[90m━━━━━━━━━━━━━━━━━━━━━━━━━━━━━━━━━━━━━━━━\u001b[0m \u001b[32m253.7/253.7 kB\u001b[0m \u001b[31m3.9 MB/s\u001b[0m eta \u001b[36m0:00:00\u001b[0m\n",
            "\u001b[?25hRequirement already satisfied: audioread>=2.1.9 in /usr/local/lib/python3.10/dist-packages (from librosa) (3.0.1)\n",
            "Requirement already satisfied: numpy!=1.22.0,!=1.22.1,!=1.22.2,>=1.20.3 in /usr/local/lib/python3.10/dist-packages (from librosa) (1.25.2)\n",
            "Requirement already satisfied: scipy>=1.2.0 in /usr/local/lib/python3.10/dist-packages (from librosa) (1.11.4)\n",
            "Requirement already satisfied: scikit-learn>=0.20.0 in /usr/local/lib/python3.10/dist-packages (from librosa) (1.2.2)\n",
            "Requirement already satisfied: joblib>=0.14 in /usr/local/lib/python3.10/dist-packages (from librosa) (1.3.2)\n",
            "Requirement already satisfied: decorator>=4.3.0 in /usr/local/lib/python3.10/dist-packages (from librosa) (4.4.2)\n",
            "Requirement already satisfied: numba>=0.51.0 in /usr/local/lib/python3.10/dist-packages (from librosa) (0.58.1)\n",
            "Requirement already satisfied: soundfile>=0.12.1 in /usr/local/lib/python3.10/dist-packages (from librosa) (0.12.1)\n",
            "Requirement already satisfied: pooch>=1.0 in /usr/local/lib/python3.10/dist-packages (from librosa) (1.8.1)\n",
            "Requirement already satisfied: soxr>=0.3.2 in /usr/local/lib/python3.10/dist-packages (from librosa) (0.3.7)\n",
            "Requirement already satisfied: typing-extensions>=4.1.1 in /usr/local/lib/python3.10/dist-packages (from librosa) (4.10.0)\n",
            "Requirement already satisfied: lazy-loader>=0.1 in /usr/local/lib/python3.10/dist-packages (from librosa) (0.3)\n",
            "Requirement already satisfied: msgpack>=1.0 in /usr/local/lib/python3.10/dist-packages (from librosa) (1.0.8)\n",
            "Requirement already satisfied: llvmlite<0.42,>=0.41.0dev0 in /usr/local/lib/python3.10/dist-packages (from numba>=0.51.0->librosa) (0.41.1)\n",
            "Requirement already satisfied: platformdirs>=2.5.0 in /usr/local/lib/python3.10/dist-packages (from pooch>=1.0->librosa) (4.2.0)\n",
            "Requirement already satisfied: packaging>=20.0 in /usr/local/lib/python3.10/dist-packages (from pooch>=1.0->librosa) (24.0)\n",
            "Requirement already satisfied: requests>=2.19.0 in /usr/local/lib/python3.10/dist-packages (from pooch>=1.0->librosa) (2.31.0)\n",
            "Requirement already satisfied: threadpoolctl>=2.0.0 in /usr/local/lib/python3.10/dist-packages (from scikit-learn>=0.20.0->librosa) (3.3.0)\n",
            "Requirement already satisfied: cffi>=1.0 in /usr/local/lib/python3.10/dist-packages (from soundfile>=0.12.1->librosa) (1.16.0)\n",
            "Requirement already satisfied: pycparser in /usr/local/lib/python3.10/dist-packages (from cffi>=1.0->soundfile>=0.12.1->librosa) (2.21)\n",
            "Requirement already satisfied: charset-normalizer<4,>=2 in /usr/local/lib/python3.10/dist-packages (from requests>=2.19.0->pooch>=1.0->librosa) (3.3.2)\n",
            "Requirement already satisfied: idna<4,>=2.5 in /usr/local/lib/python3.10/dist-packages (from requests>=2.19.0->pooch>=1.0->librosa) (3.6)\n",
            "Requirement already satisfied: urllib3<3,>=1.21.1 in /usr/local/lib/python3.10/dist-packages (from requests>=2.19.0->pooch>=1.0->librosa) (2.0.7)\n",
            "Requirement already satisfied: certifi>=2017.4.17 in /usr/local/lib/python3.10/dist-packages (from requests>=2.19.0->pooch>=1.0->librosa) (2024.2.2)\n",
            "Installing collected packages: librosa\n",
            "Successfully installed librosa-0.10.1\n"
          ]
        },
        {
          "output_type": "display_data",
          "data": {
            "application/vnd.colab-display-data+json": {
              "pip_warning": {
                "packages": [
                  "librosa"
                ]
              },
              "id": "7ca72ea7a7bf46d8afca29be3fe25ef3"
            }
          },
          "metadata": {}
        }
      ]
    },
    {
      "cell_type": "code",
      "source": [
        "!pip install ffmpeg-python"
      ],
      "metadata": {
        "colab": {
          "base_uri": "https://localhost:8080/"
        },
        "id": "FEMm3zP9daGB",
        "outputId": "f319bcdb-f154-4ab2-fe1e-0897a41527d0"
      },
      "execution_count": 2,
      "outputs": [
        {
          "output_type": "stream",
          "name": "stdout",
          "text": [
            "Requirement already satisfied: ffmpeg-python in /usr/local/lib/python3.10/dist-packages (0.2.0)\n",
            "Requirement already satisfied: future in /usr/local/lib/python3.10/dist-packages (from ffmpeg-python) (0.18.3)\n"
          ]
        }
      ]
    },
    {
      "cell_type": "code",
      "execution_count": 3,
      "metadata": {
        "id": "SfAnIcTlJcyT"
      },
      "outputs": [],
      "source": [
        "import numpy as np\n",
        "import pandas as pd\n",
        "import librosa\n",
        "import ffmpeg\n",
        "import os\n",
        "import tqdm\n",
        "import matplotlib.pyplot as plt\n",
        "import random\n",
        "import librosa.display\n",
        "from mpl_toolkits.axes_grid1 import make_axes_locatable\n",
        "import torch\n",
        "import torchvision\n",
        "from torchvision import transforms\n",
        "from torchvision.datasets import ImageFolder\n",
        "from torch.utils.data.dataloader import DataLoader\n",
        "from torch.utils.data import random_split\n",
        "from torchvision.utils import make_grid\n",
        "import torch.nn as nn\n",
        "import torch.nn.functional as F\n",
        "from sklearn.model_selection import train_test_split\n",
        "from torch.utils.data import Dataset, TensorDataset\n",
        "from sklearn.metrics import classification_report\n",
        "from sklearn import metrics"
      ]
    },
    {
      "cell_type": "markdown",
      "metadata": {
        "id": "id7_WagaJcyU"
      },
      "source": [
        "First we should read the data."
      ]
    },
    {
      "cell_type": "code",
      "execution_count": 6,
      "metadata": {
        "id": "CDN1YRsfJcyU",
        "colab": {
          "base_uri": "https://localhost:8080/"
        },
        "outputId": "7f862f4d-4803-4b47-8f9d-d6f9d806b219"
      },
      "outputs": [
        {
          "output_type": "stream",
          "name": "stderr",
          "text": [
            "<ipython-input-6-c9720763ddb8>:20: UserWarning: PySoundFile failed. Trying audioread instead.\n",
            "  y, sr = librosa.load(filepath, res_type='kaiser_best')\n",
            "/usr/local/lib/python3.10/dist-packages/librosa/core/audio.py:183: FutureWarning: librosa.core.audio.__audioread_load\n",
            "\tDeprecated as of librosa version 0.10.0.\n",
            "\tIt will be removed in librosa version 1.0.\n",
            "  y, sr_native = __audioread_load(path, offset, duration, dtype)\n"
          ]
        },
        {
          "output_type": "stream",
          "name": "stdout",
          "text": [
            "Failed to load /content/drive/MyDrive/dl-final-proj/Data/genres_original/jazz/jazz.00054.wav: \n",
            "Loaded 999 files with 1 failures.\n"
          ]
        }
      ],
      "source": [
        "import os\n",
        "import librosa\n",
        "\n",
        "def data_read(directory=\"/content/drive/MyDrive/dl-final-proj/Data/genres_original\"):\n",
        "    data = [] # Store all data (read from music)\n",
        "    labels = [] # Store corresponding labels\n",
        "    srs = []\n",
        "    failed_files = []\n",
        "\n",
        "    for dirname, _, filenames in os.walk(directory):\n",
        "        for filename in filenames:\n",
        "            filepath = os.path.join(dirname, filename)\n",
        "\n",
        "            # Skip non-existent files\n",
        "            if not os.path.isfile(filepath):\n",
        "                continue\n",
        "\n",
        "            try:\n",
        "                # Using 'kaiser_best' for high-quality resampling\n",
        "                y, sr = librosa.load(filepath, res_type='kaiser_best')\n",
        "                label = dirname.split('/')[-1]\n",
        "\n",
        "                # Append them to the final data\n",
        "                data.append(y)\n",
        "                labels.append(label)\n",
        "                srs.append(sr)\n",
        "\n",
        "            except Exception as e:\n",
        "                print(f\"Failed to load {filepath}: {e}\")\n",
        "                failed_files.append(filepath)\n",
        "\n",
        "    print(f\"Loaded {len(data)} files with {len(failed_files)} failures.\")\n",
        "    return data, labels, srs, failed_files\n",
        "\n",
        "# 使用你的数据目录调用函数\n",
        "data, labels, srs, failed = data_read()\n"
      ]
    },
    {
      "cell_type": "markdown",
      "metadata": {
        "id": "JmDvZ07AJcyU"
      },
      "source": [
        "Get one random sample to show whether we read the data successfully."
      ]
    },
    {
      "cell_type": "code",
      "execution_count": 7,
      "metadata": {
        "colab": {
          "base_uri": "https://localhost:8080/",
          "height": 472
        },
        "id": "V96rzIcGJcyU",
        "outputId": "40a00fad-1f4a-4901-d7d1-38c851413d94"
      },
      "outputs": [
        {
          "output_type": "display_data",
          "data": {
            "text/plain": [
              "<Figure size 640x480 with 1 Axes>"
            ],
            "image/png": "[encoded data removed]"
          },
          "metadata": {}
        }
      ],
      "source": [
        "def check():\n",
        "    fig, axi = plt.subplots(1,1) # initialize\n",
        "    ind = random.randint(0, len(labels)-1) # randomly choose one index\n",
        "    times = [sample/srs[ind] for sample in range(len(data[ind]))] # get time axis\n",
        "    axi.plot(times, data[ind])\n",
        "    axi.set_ylabel('Normalized Amplitude')\n",
        "    axi.set_xlabel('Time /s')\n",
        "    axi.set(title = \"one example from \" + labels[ind].capitalize())\n",
        "\n",
        "    plt.show()\n",
        "\n",
        "check()"
      ]
    },
    {
      "cell_type": "markdown",
      "metadata": {
        "id": "a9MtHgXsJcyV"
      },
      "source": [
        "Then we need to extract mfccs features from \"data\""
      ]
    },
    {
      "cell_type": "code",
      "execution_count": 8,
      "metadata": {
        "id": "HhxjRlSdJcyV"
      },
      "outputs": [],
      "source": [
        "def get_mels(data, srs):\n",
        "    '''\n",
        "        input: data : array like data structure\n",
        "               src : sampling rates\n",
        "               num_mel: how many mel features you want\n",
        "\n",
        "        return: mels\n",
        "    '''\n",
        "    mels = []\n",
        "    for i in range(len(data)):\n",
        "        mel = librosa.feature.melspectrogram(y=data[i], sr=srs[i], n_mels= 128, fmax=8000).T\n",
        "        #print(np.shape(mel))\n",
        "        mels.append(mel)\n",
        "\n",
        "\n",
        "    return mels # contains every music's mel"
      ]
    },
    {
      "cell_type": "code",
      "execution_count": 9,
      "metadata": {
        "id": "8J6VMetgJcyV"
      },
      "outputs": [],
      "source": [
        "mels = get_mels(data, srs)"
      ]
    },
    {
      "cell_type": "code",
      "source": [
        "def get_mfcc(data, srs, n_mfcc):\n",
        "    '''Gets mfccs given a array like data structure and its sampling rates\n",
        "    '''\n",
        "    mfccs = []\n",
        "    for i in range(len(data)):\n",
        "        mfcc = librosa.feature.mfcc(y=data[i], sr=srs[i], n_mfcc=n_mfcc).T\n",
        "        mfccs.append(mfcc)\n",
        "\n",
        "    return mfccs"
      ],
      "metadata": {
        "id": "QfQQt3v3rTmt"
      },
      "execution_count": 10,
      "outputs": []
    },
    {
      "cell_type": "code",
      "source": [
        "mfccs = get_mfcc(data, srs, n_mfcc=128)\n",
        "max_length1 = len(max(mfccs, key=len))\n",
        "def pad_mfcc(mfccs, max_length):\n",
        "    'pads'\n",
        "    mfccs_padded = []\n",
        "    for mfcc in mfccs:\n",
        "        mfcc_padded = np.pad(mfcc, pad_width=[(0,max_length-mfcc[:,0].shape[0]),(0,0)])\n",
        "        mfccs_padded.append(mfcc_padded)\n",
        "    return mfccs_padded\n"
      ],
      "metadata": {
        "id": "Ic8Njmd6rWSU"
      },
      "execution_count": 11,
      "outputs": []
    },
    {
      "cell_type": "code",
      "source": [
        "mfccs_padded = pad_mfcc(mfccs, max_length1)\n",
        "print(np.shape(mfccs_padded[0]))"
      ],
      "metadata": {
        "colab": {
          "base_uri": "https://localhost:8080/"
        },
        "id": "IQWXb0KHrore",
        "outputId": "08e82817-905f-46fe-b951-725cc6eb0b9b"
      },
      "execution_count": 12,
      "outputs": [
        {
          "output_type": "stream",
          "name": "stdout",
          "text": [
            "(1320, 128)\n"
          ]
        }
      ]
    },
    {
      "cell_type": "markdown",
      "metadata": {
        "id": "9RWPaVHvJcyV"
      },
      "source": [
        "Then we need to pad mfccs to make them have the same length"
      ]
    },
    {
      "cell_type": "code",
      "execution_count": 13,
      "metadata": {
        "id": "eQ0JrEnMJcyV"
      },
      "outputs": [],
      "source": [
        "max_length = len(max(mels, key=len)) # get the max length\n",
        "def pad_mel(mels, max_length):\n",
        "    'pads'\n",
        "    mels_padded = []\n",
        "    for mel in mels:\n",
        "        mel_padded = np.pad(mel, pad_width=[(0,max_length-mel[:,0].shape[0]),(0,0)])\n",
        "        mels_padded.append(mel_padded)\n",
        "    return mels_padded"
      ]
    },
    {
      "cell_type": "code",
      "execution_count": 14,
      "metadata": {
        "id": "KC_-GVD7JcyV"
      },
      "outputs": [],
      "source": [
        "mels_padded = pad_mel(mels, max_length)"
      ]
    },
    {
      "cell_type": "code",
      "source": [
        "print(np.shape(mels_padded))\n"
      ],
      "metadata": {
        "colab": {
          "base_uri": "https://localhost:8080/"
        },
        "id": "7PMeeoCHZEUZ",
        "outputId": "fe38f0dc-4ac6-43a3-9a22-9f51c7657f7a"
      },
      "execution_count": 15,
      "outputs": [
        {
          "output_type": "stream",
          "name": "stdout",
          "text": [
            "(999, 1320, 128)\n"
          ]
        }
      ]
    },
    {
      "cell_type": "code",
      "source": [
        "mels_padded = np.add(mels_padded, mfccs_padded)\n",
        "print(np.shape(mels_padded))\n"
      ],
      "metadata": {
        "colab": {
          "base_uri": "https://localhost:8080/"
        },
        "id": "3NYdz80csyBc",
        "outputId": "f26ea9f8-b235-49da-fb5e-0bab02a27beb"
      },
      "execution_count": 16,
      "outputs": [
        {
          "output_type": "stream",
          "name": "stdout",
          "text": [
            "(999, 1320, 128)\n"
          ]
        }
      ]
    },
    {
      "cell_type": "code",
      "source": [],
      "metadata": {
        "id": "ANVPKqLwuoP7"
      },
      "execution_count": null,
      "outputs": []
    },
    {
      "cell_type": "markdown",
      "metadata": {
        "id": "OypB7gjqJcyV"
      },
      "source": [
        "Next, we put the mfccs_padded into dataloader"
      ]
    },
    {
      "cell_type": "code",
      "execution_count": 17,
      "metadata": {
        "id": "kuIuTdsmJcyV",
        "colab": {
          "base_uri": "https://localhost:8080/"
        },
        "outputId": "3c2be576-6148-497d-808e-a6277501ec14"
      },
      "outputs": [
        {
          "output_type": "stream",
          "name": "stdout",
          "text": [
            "    labels\n",
            "0    blues\n",
            "1    blues\n",
            "2    blues\n",
            "3    blues\n",
            "4    blues\n",
            "..     ...\n",
            "994   rock\n",
            "995   rock\n",
            "996   rock\n",
            "997   rock\n",
            "998   rock\n",
            "\n",
            "[999 rows x 1 columns]\n",
            "     labels\n",
            "0         0\n",
            "1         0\n",
            "2         0\n",
            "3         0\n",
            "4         0\n",
            "..      ...\n",
            "994       9\n",
            "995       9\n",
            "996       9\n",
            "997       9\n",
            "998       9\n",
            "\n",
            "[999 rows x 1 columns]\n",
            "[0 0 0 0 0 0 0 0 0 0 0 0 0 0 0 0 0 0 0 0 0 0 0 0 0 0 0 0 0 0 0 0 0 0 0 0 0\n",
            " 0 0 0 0 0 0 0 0 0 0 0 0 0 0 0 0 0 0 0 0 0 0 0 0 0 0 0 0 0 0 0 0 0 0 0 0 0\n",
            " 0 0 0 0 0 0 0 0 0 0 0 0 0 0 0 0 0 0 0 0 0 0 0 0 0 0 1 1 1 1 1 1 1 1 1 1 1\n",
            " 1 1 1 1 1 1 1 1 1 1 1 1 1 1 1 1 1 1 1 1 1 1 1 1 1 1 1 1 1 1 1 1 1 1 1 1 1\n",
            " 1 1 1 1 1 1 1 1 1 1 1 1 1 1 1 1 1 1 1 1 1 1 1 1 1 1 1 1 1 1 1 1 1 1 1 1 1\n",
            " 1 1 1 1 1 1 1 1 1 1 1 1 1 1 1 2 2 2 2 2 2 2 2 2 2 2 2 2 2 2 2 2 2 2 2 2 2\n",
            " 2 2 2 2 2 2 2 2 2 2 2 2 2 2 2 2 2 2 2 2 2 2 2 2 2 2 2 2 2 2 2 2 2 2 2 2 2\n",
            " 2 2 2 2 2 2 2 2 2 2 2 2 2 2 2 2 2 2 2 2 2 2 2 2 2 2 2 2 2 2 2 2 2 2 2 2 2\n",
            " 2 2 2 2 3 3 3 3 3 3 3 3 3 3 3 3 3 3 3 3 3 3 3 3 3 3 3 3 3 3 3 3 3 3 3 3 3\n",
            " 3 3 3 3 3 3 3 3 3 3 3 3 3 3 3 3 3 3 3 3 3 3 3 3 3 3 3 3 3 3 3 3 3 3 3 3 3\n",
            " 3 3 3 3 3 3 3 3 3 3 3 3 3 3 3 3 3 3 3 3 3 3 3 3 3 3 3 3 3 3 4 4 4 4 4 4 4\n",
            " 4 4 4 4 4 4 4 4 4 4 4 4 4 4 4 4 4 4 4 4 4 4 4 4 4 4 4 4 4 4 4 4 4 4 4 4 4\n",
            " 4 4 4 4 4 4 4 4 4 4 4 4 4 4 4 4 4 4 4 4 4 4 4 4 4 4 4 4 4 4 4 4 4 4 4 4 4\n",
            " 4 4 4 4 4 4 4 4 4 4 4 4 4 4 4 4 4 4 4 5 5 5 5 5 5 5 5 5 5 5 5 5 5 5 5 5 5\n",
            " 5 5 5 5 5 5 5 5 5 5 5 5 5 5 5 5 5 5 5 5 5 5 5 5 5 5 5 5 5 5 5 5 5 5 5 5 5\n",
            " 5 5 5 5 5 5 5 5 5 5 5 5 5 5 5 5 5 5 5 5 5 5 5 5 5 5 5 5 5 5 5 5 5 5 5 5 5\n",
            " 5 5 5 5 5 5 5 6 6 6 6 6 6 6 6 6 6 6 6 6 6 6 6 6 6 6 6 6 6 6 6 6 6 6 6 6 6\n",
            " 6 6 6 6 6 6 6 6 6 6 6 6 6 6 6 6 6 6 6 6 6 6 6 6 6 6 6 6 6 6 6 6 6 6 6 6 6\n",
            " 6 6 6 6 6 6 6 6 6 6 6 6 6 6 6 6 6 6 6 6 6 6 6 6 6 6 6 6 6 6 6 6 6 7 7 7 7\n",
            " 7 7 7 7 7 7 7 7 7 7 7 7 7 7 7 7 7 7 7 7 7 7 7 7 7 7 7 7 7 7 7 7 7 7 7 7 7\n",
            " 7 7 7 7 7 7 7 7 7 7 7 7 7 7 7 7 7 7 7 7 7 7 7 7 7 7 7 7 7 7 7 7 7 7 7 7 7\n",
            " 7 7 7 7 7 7 7 7 7 7 7 7 7 7 7 7 7 7 7 7 7 7 8 8 8 8 8 8 8 8 8 8 8 8 8 8 8\n",
            " 8 8 8 8 8 8 8 8 8 8 8 8 8 8 8 8 8 8 8 8 8 8 8 8 8 8 8 8 8 8 8 8 8 8 8 8 8\n",
            " 8 8 8 8 8 8 8 8 8 8 8 8 8 8 8 8 8 8 8 8 8 8 8 8 8 8 8 8 8 8 8 8 8 8 8 8 8\n",
            " 8 8 8 8 8 8 8 8 8 8 8 9 9 9 9 9 9 9 9 9 9 9 9 9 9 9 9 9 9 9 9 9 9 9 9 9 9\n",
            " 9 9 9 9 9 9 9 9 9 9 9 9 9 9 9 9 9 9 9 9 9 9 9 9 9 9 9 9 9 9 9 9 9 9 9 9 9\n",
            " 9 9 9 9 9 9 9 9 9 9 9 9 9 9 9 9 9 9 9 9 9 9 9 9 9 9 9 9 9 9 9 9 9 9 9 9 9]\n"
          ]
        }
      ],
      "source": [
        "# convert data to numpy array\n",
        "X = np.asarray(mels_padded)\n",
        "# Mapping labels\n",
        "codes = {\n",
        "    'blues':0,\n",
        "    'classical':1,\n",
        "    'country':2,\n",
        "    'disco':3,\n",
        "    'hiphop':4,\n",
        "    'jazz':5,\n",
        "    'metal':6,\n",
        "    'pop':7,\n",
        "    'reggae':8,\n",
        "    'rock':9\n",
        "}\n",
        "\n",
        "df_map = pd.DataFrame (labels, columns = ['labels'])\n",
        "print(df_map)\n",
        "df_map['labels'] = df_map['labels'].map(codes)\n",
        "print(df_map)\n",
        "y = df_map['labels'].to_numpy()\n",
        "print(y)"
      ]
    },
    {
      "cell_type": "code",
      "source": [
        "print(X)"
      ],
      "metadata": {
        "colab": {
          "base_uri": "https://localhost:8080/"
        },
        "id": "xDVvWRIhtQD9",
        "outputId": "88171d24-a87f-4a83-b541-af68a62d9537"
      },
      "execution_count": 18,
      "outputs": [
        {
          "output_type": "stream",
          "name": "stdout",
          "text": [
            "[[[-3.3864746e+02  1.5852524e+02  1.2057245e+01 ...  8.3563602e-01\n",
            "    3.0626991e-01  1.3212813e-01]\n",
            "  [-2.2269672e+02  1.5471269e+02  3.2856476e+01 ...  2.5663933e-01\n",
            "    3.8308594e+00  1.5024240e-01]\n",
            "  [-1.4344678e+02  3.1387509e+02  2.4328853e+02 ...  3.6432633e-01\n",
            "    3.1120081e+00 -1.0205062e-01]\n",
            "  ...\n",
            "  [ 0.0000000e+00  0.0000000e+00  0.0000000e+00 ...  0.0000000e+00\n",
            "    0.0000000e+00  0.0000000e+00]\n",
            "  [ 0.0000000e+00  0.0000000e+00  0.0000000e+00 ...  0.0000000e+00\n",
            "    0.0000000e+00  0.0000000e+00]\n",
            "  [ 0.0000000e+00  0.0000000e+00  0.0000000e+00 ...  0.0000000e+00\n",
            "    0.0000000e+00  0.0000000e+00]]\n",
            "\n",
            " [[-1.7747804e+02  1.3271915e+02 -3.3730244e+01 ... -6.8066597e-01\n",
            "   -2.8779857e+00  3.7490013e+00]\n",
            "  [-1.6675342e+02  1.2225980e+02 -4.0269608e+01 ...  5.9211642e-01\n",
            "   -2.6521573e+00  5.2995939e+00]\n",
            "  [-1.6521214e+02  1.1620506e+02 -4.5619591e+01 ...  1.8845500e+00\n",
            "   -6.9774866e-01  4.1683731e+00]\n",
            "  ...\n",
            "  [ 0.0000000e+00  0.0000000e+00  0.0000000e+00 ...  0.0000000e+00\n",
            "    0.0000000e+00  0.0000000e+00]\n",
            "  [ 0.0000000e+00  0.0000000e+00  0.0000000e+00 ...  0.0000000e+00\n",
            "    0.0000000e+00  0.0000000e+00]\n",
            "  [ 0.0000000e+00  0.0000000e+00  0.0000000e+00 ...  0.0000000e+00\n",
            "    0.0000000e+00  0.0000000e+00]]\n",
            "\n",
            " [[-2.1689932e+02  2.2090033e+02  1.3467636e+02 ...  7.1588629e-01\n",
            "    1.8113928e+00  2.4817436e+00]\n",
            "  [-2.0013503e+02  2.2381816e+02  3.7245044e+02 ...  3.4344091e+00\n",
            "    2.5116763e+00  7.7940184e-01]\n",
            "  [-2.1312933e+02  2.2065118e+02  4.5496603e+02 ...  3.3709834e+00\n",
            "    2.2523470e+00 -1.8608754e+00]\n",
            "  ...\n",
            "  [ 0.0000000e+00  0.0000000e+00  0.0000000e+00 ...  0.0000000e+00\n",
            "    0.0000000e+00  0.0000000e+00]\n",
            "  [ 0.0000000e+00  0.0000000e+00  0.0000000e+00 ...  0.0000000e+00\n",
            "    0.0000000e+00  0.0000000e+00]\n",
            "  [ 0.0000000e+00  0.0000000e+00  0.0000000e+00 ...  0.0000000e+00\n",
            "    0.0000000e+00  0.0000000e+00]]\n",
            "\n",
            " ...\n",
            "\n",
            " [[-9.5834198e+01  1.1052145e+02 -4.4916336e+01 ...  9.4352180e-01\n",
            "    2.4001987e+00  1.4241332e-01]\n",
            "  [-6.6573303e+01  1.0648184e+02 -5.4387417e+01 ... -9.5050119e-02\n",
            "    1.7278938e+00 -1.7834337e+00]\n",
            "  [-6.6318031e+01  9.4155922e+01 -5.8683979e+01 ... -2.6107907e-01\n",
            "    1.8965296e+00 -1.9879165e+00]\n",
            "  ...\n",
            "  [ 0.0000000e+00  0.0000000e+00  0.0000000e+00 ...  0.0000000e+00\n",
            "    0.0000000e+00  0.0000000e+00]\n",
            "  [ 0.0000000e+00  0.0000000e+00  0.0000000e+00 ...  0.0000000e+00\n",
            "    0.0000000e+00  0.0000000e+00]\n",
            "  [ 0.0000000e+00  0.0000000e+00  0.0000000e+00 ...  0.0000000e+00\n",
            "    0.0000000e+00  0.0000000e+00]]\n",
            "\n",
            " [[-2.4358615e+02  1.2195087e+02 -2.9110889e+01 ... -1.4222504e+00\n",
            "    2.8921959e+00  2.0132749e+00]\n",
            "  [-2.2708337e+02  1.2325423e+02 -3.8343582e+01 ... -1.6633602e+00\n",
            "    4.1319914e+00  5.2469349e+00]\n",
            "  [-2.3813884e+02  1.2215135e+02 -4.1295063e+01 ... -2.9456661e+00\n",
            "    3.2147582e+00  7.0600705e+00]\n",
            "  ...\n",
            "  [ 0.0000000e+00  0.0000000e+00  0.0000000e+00 ...  0.0000000e+00\n",
            "    0.0000000e+00  0.0000000e+00]\n",
            "  [ 0.0000000e+00  0.0000000e+00  0.0000000e+00 ...  0.0000000e+00\n",
            "    0.0000000e+00  0.0000000e+00]\n",
            "  [ 0.0000000e+00  0.0000000e+00  0.0000000e+00 ...  0.0000000e+00\n",
            "    0.0000000e+00  0.0000000e+00]]\n",
            "\n",
            " [[-1.6962129e+02  9.6509346e+01 -9.6601067e+00 ...  3.2856197e+00\n",
            "   -1.4911178e+00  1.3242577e+00]\n",
            "  [-1.6014027e+02  8.7106827e+01 -1.5704172e+01 ...  2.1729233e+00\n",
            "   -2.9419288e-01  1.3710434e+00]\n",
            "  [-1.7113712e+02  8.1433640e+01 -1.8202118e+01 ...  2.2703629e+00\n",
            "    1.7779517e+00  2.2514608e+00]\n",
            "  ...\n",
            "  [ 0.0000000e+00  0.0000000e+00  0.0000000e+00 ...  0.0000000e+00\n",
            "    0.0000000e+00  0.0000000e+00]\n",
            "  [ 0.0000000e+00  0.0000000e+00  0.0000000e+00 ...  0.0000000e+00\n",
            "    0.0000000e+00  0.0000000e+00]\n",
            "  [ 0.0000000e+00  0.0000000e+00  0.0000000e+00 ...  0.0000000e+00\n",
            "    0.0000000e+00  0.0000000e+00]]]\n"
          ]
        }
      ]
    },
    {
      "cell_type": "code",
      "execution_count": 19,
      "metadata": {
        "id": "BlzEHGEeJcyV"
      },
      "outputs": [],
      "source": [
        "# To split train_data, valid_data and test_data\n",
        "def train_val_test_split(x, y, test_size, val_size, random_state=None, stratify=None):\n",
        "    x_t, x_test, y_t, y_test = train_test_split(x, y, test_size=test_size, random_state=random_state, stratify=stratify)\n",
        "    if stratify is not None:\n",
        "        stratify = y_t\n",
        "    x_train, x_val, y_train, y_val = train_test_split(x_t, y_t, test_size=val_size, random_state=random_state, stratify=stratify)\n",
        "\n",
        "    return x_train, y_train, x_val, y_val, x_test, y_test\n",
        "\n",
        "def to_Dataloader(x_train, y_train, x_val, y_val, x_test, y_test, batch_size, test_batch=1,shuffle=True):\n",
        "\n",
        "    train_dataset = TensorDataset(torch.Tensor(x_train),torch.Tensor(y_train).type(torch.LongTensor)) # create train_dataset\n",
        "    val_dataset = TensorDataset(torch.Tensor(x_val),torch.Tensor(y_val).type(torch.LongTensor)) # create val_dataset\n",
        "    test_dataset = TensorDataset(torch.Tensor(x_test),torch.Tensor(y_test).type(torch.LongTensor)) # create test_dataset\n",
        "\n",
        "    train_dataloader = DataLoader(train_dataset, batch_size=batch_size, shuffle=shuffle) # create your train_dataloader\n",
        "    val_dataloader = DataLoader(val_dataset, batch_size=batch_size, shuffle=shuffle) # create your val_dataloader\n",
        "    test_dataloader = DataLoader(test_dataset, batch_size=test_batch, shuffle=shuffle) # create your test_dataloader\n",
        "\n",
        "    return train_dataloader, val_dataloader, test_dataloader"
      ]
    },
    {
      "cell_type": "code",
      "execution_count": 20,
      "metadata": {
        "colab": {
          "base_uri": "https://localhost:8080/"
        },
        "id": "tOXMNxExJcyW",
        "outputId": "e243e892-cc49-42f0-aaad-3a224aee87e4"
      },
      "outputs": [
        {
          "output_type": "stream",
          "name": "stdout",
          "text": [
            "finished\n"
          ]
        }
      ],
      "source": [
        "x_train, y_train, x_val, y_val, x_test, y_test = train_val_test_split(X, y, test_size=0.15, val_size=0.15, random_state=42, stratify=y)\n",
        "\n",
        "train_dataloader, val_dataloader, test_dataloader = to_Dataloader(x_train, y_train, x_val, y_val, x_test, y_test, batch_size=64, test_batch=1,shuffle=True)\n",
        "\n",
        "print('finished')"
      ]
    },
    {
      "cell_type": "markdown",
      "metadata": {
        "id": "TVOsFyMOJcyW"
      },
      "source": [
        "We then define a class called \"early stop \"\n",
        "It is from : \"https://github.com/Bjarten/early-stopping-pytorch/blob/master/pytorchtools.py\""
      ]
    },
    {
      "cell_type": "code",
      "execution_count": 21,
      "metadata": {
        "id": "2wPrtEQaJcyW"
      },
      "outputs": [],
      "source": [
        "class EarlyStopping:\n",
        "    \"\"\"Early stops the training if validation loss doesn't improve after a given patience.\"\"\"\n",
        "    def __init__(self, patience=7, verbose=False, delta=0, path='checkpoint.pt', trace_func=print):\n",
        "        \"\"\"\n",
        "        Args:\n",
        "            patience (int): How long to wait after last time validation loss improved.\n",
        "                            Default: 7\n",
        "            verbose (bool): If True, prints a message for each validation loss improvement.\n",
        "                            Default: False\n",
        "            delta (float): Minimum change in the monitored quantity to qualify as an improvement.\n",
        "                            Default: 0\n",
        "            path (str): Path for the checkpoint to be saved to.\n",
        "                            Default: 'checkpoint.pt'\n",
        "            trace_func (function): trace print function.\n",
        "                            Default: print\n",
        "        \"\"\"\n",
        "        self.patience = patience\n",
        "        self.verbose = verbose\n",
        "        self.counter = 0\n",
        "        self.best_score = None\n",
        "        self.early_stop = False\n",
        "        self.val_loss_min = np.Inf\n",
        "        self.delta = delta\n",
        "        self.path = path\n",
        "        self.trace_func = trace_func\n",
        "    def __call__(self, val_loss, model):\n",
        "\n",
        "        score = -val_loss\n",
        "\n",
        "        if self.best_score is None:\n",
        "            self.best_score = score\n",
        "            self.save_checkpoint(val_loss, model)\n",
        "        elif score < self.best_score + self.delta:\n",
        "            self.counter += 1\n",
        "            self.trace_func(f'EarlyStopping counter: {self.counter} out of {self.patience}')\n",
        "            if self.counter >= self.patience:\n",
        "                self.early_stop = True\n",
        "        else:\n",
        "            self.best_score = score\n",
        "            self.save_checkpoint(val_loss, model)\n",
        "            self.counter = 0\n",
        "\n",
        "    def save_checkpoint(self, val_loss, model):\n",
        "        '''Saves model when validation loss decrease.'''\n",
        "        if self.verbose:\n",
        "            self.trace_func(f'Validation loss decreased ({self.val_loss_min:.6f} --> {val_loss:.6f}).  Saving model ...')\n",
        "        torch.save(model.state_dict(), self.path)\n",
        "        self.val_loss_min = val_loss"
      ]
    },
    {
      "cell_type": "markdown",
      "metadata": {
        "id": "2wDOdJLwJcyW"
      },
      "source": [
        "After doing all things above, it is time to build our model to train this dataset!"
      ]
    },
    {
      "cell_type": "markdown",
      "metadata": {
        "id": "bGH7g_UMJcyW"
      },
      "source": [
        "For the first model, we try to Reproducing GoogleNet:"
      ]
    },
    {
      "cell_type": "code",
      "execution_count": 22,
      "metadata": {
        "id": "ipT8DgneJcyW"
      },
      "outputs": [],
      "source": [
        "# A class to define the Inception\n",
        "class Inception(nn.Module):\n",
        "    def __init__(self, in_channels, c1, c2, c3, c4, **kwargs):\n",
        "        super(Inception, self).__init__(**kwargs)\n",
        "        self.p1_1 = nn.Conv2d(in_channels, c1, kernel_size=1)\n",
        "        #1X1 kernel\n",
        "        self.p2_1 = nn.Conv2d(in_channels, c2[0], kernel_size=1)\n",
        "        self.p2_2 = nn.Conv2d(c2[0], c2[1], kernel_size=3, padding=1)\n",
        "        #1X1,3X3 kernel\n",
        "        self.p3_1 = nn.Conv2d(in_channels, c3[0], kernel_size=1)\n",
        "        self.p3_2 = nn.Conv2d(c3[0], c3[1], kernel_size=5, padding=2)\n",
        "        #1X1,5X5 kernel\n",
        "        self.p4_1 = nn.MaxPool2d(kernel_size=3, stride=1, padding=1)\n",
        "        self.p4_2 = nn.Conv2d(in_channels, c4, kernel_size=1)\n",
        "        #maxpool, 1x1 kernel\n",
        "    def forward(self, x):\n",
        "        p1 = F.relu(self.p1_1(x))\n",
        "        p2 = F.relu(self.p2_2(F.relu(self.p2_1(x))))\n",
        "        p3 = F.relu(self.p3_2(F.relu(self.p3_1(x))))\n",
        "        p4 = F.relu(self.p4_2(self.p4_1(x)))\n",
        "        # Sequentialize\n",
        "        return torch.cat((p1, p2, p3, p4), dim=1)\n",
        "\n",
        "\n",
        "class GoogleNet(nn.Module):\n",
        "    def __init__(self):\n",
        "        super(GoogleNet, self).__init__()\n",
        "        self.num_conv_layers = 5\n",
        "        b1 = nn.Sequential(nn.Conv2d(1, 64, kernel_size=7, stride=2, padding=3),\n",
        "                   nn.ReLU(),\n",
        "                   nn.MaxPool2d(kernel_size=3, stride=2, padding=1))\n",
        "\n",
        "        b2 = nn.Sequential(nn.Conv2d(64, 64, kernel_size=1),\n",
        "                   nn.ReLU(),\n",
        "                   nn.Conv2d(64, 192, kernel_size=3, padding=1),\n",
        "                   nn.ReLU(),\n",
        "                   nn.MaxPool2d(kernel_size=3, stride=2, padding=1))\n",
        "\n",
        "        b3 = nn.Sequential(Inception(192, 64, (96, 128), (16, 32), 32),\n",
        "                   Inception(256, 128, (128, 192), (32, 96), 64),\n",
        "                   nn.MaxPool2d(kernel_size=3, stride=2, padding=1))\n",
        "\n",
        "        b4 = nn.Sequential(Inception(480, 192, (96, 208), (16, 48), 64),\n",
        "                   Inception(512, 160, (112, 224), (24, 64), 64),\n",
        "                   Inception(512, 128, (128, 256), (24, 64), 64),\n",
        "                   Inception(512, 112, (144, 288), (32, 64), 64),\n",
        "                   Inception(528, 256, (160, 320), (32, 128), 128),\n",
        "                   nn.MaxPool2d(kernel_size=3, stride=2, padding=1))\n",
        "\n",
        "        b5 = nn.Sequential(Inception(832, 256, (160, 320), (32, 128), 128),\n",
        "                   Inception(832, 384, (192, 384), (48, 128), 128),\n",
        "                   nn.AdaptiveAvgPool2d((1,1)),\n",
        "                   nn.Flatten())\n",
        "        #seq = [b1, b2, b3, b4, b5]\n",
        "        self.fitter = nn.Sequential(b1, b2, b3, b4, b5, nn.Linear(1024, 128),nn.Dropout(0.25), nn.Linear(128, 10))\n",
        "\n",
        "    def forward(self, x):\n",
        "\n",
        "        x = x.transpose(1,2)\n",
        "        x.unsqueeze_(1)\n",
        "        out = self.fitter(x)\n",
        "        return out"
      ]
    },
    {
      "cell_type": "code",
      "execution_count": 23,
      "metadata": {
        "id": "A62PNdvTJcyW"
      },
      "outputs": [],
      "source": [
        "# Then we wanna define a resnet\n",
        "class MelSpecClassifier (nn.Module):\n",
        "    # ----------------------------\n",
        "    # Build the model architecture\n",
        "    # ----------------------------\n",
        "    def __init__(self):\n",
        "        super().__init__()\n",
        "        conv_layers = []\n",
        "\n",
        "        # First Convolution Block\n",
        "        self.b1 = nn.Sequential(nn.Conv2d(1, 64, kernel_size=7, stride=2, padding=3),\n",
        "                   nn.ReLU(),\n",
        "                   nn.MaxPool2d(kernel_size=3, stride=2, padding=1))\n",
        "\n",
        "\n",
        "\n",
        "        conv_layers += [self.b1, nn.Conv2d(64, 64, kernel_size=1), nn.ReLU()]\n",
        "\n",
        "        # Second Convolution Block\n",
        "        self.conv2 = nn.Conv2d(64, 256, kernel_size=3, stride=2, padding=1)\n",
        "        self.relu2 = nn.PReLU()\n",
        "        self.bn2 = nn.BatchNorm2d(256)\n",
        "        conv_layers += [self.conv2, self.relu2, self.bn2]\n",
        "\n",
        "        # Third Convolution Block\n",
        "        self.conv3 = nn.Conv2d(256, 512, kernel_size=3, stride=2, padding=1)\n",
        "        self.relu3 = nn.PReLU()\n",
        "        self.bn3 = nn.BatchNorm2d(512)\n",
        "        conv_layers += [self.conv3, self.relu3, self.bn3]\n",
        "        '''\n",
        "        #4th\n",
        "        self.conv_ = nn.Conv2d(512, 1024, kernel_size=3, stride=2, padding=1)\n",
        "        self.relu_ = nn.PReLU()\n",
        "        self.bn_ = nn.BatchNorm2d(1024)\n",
        "        conv_layers += [self.conv_, self.relu_, self.bn_]\n",
        "        '''\n",
        "\n",
        "        # 5th Convolution Block\n",
        "        self.conv4 = nn.Conv2d(512, 256, kernel_size=3, stride=2, padding=1)\n",
        "        self.relu4 = nn.PReLU()\n",
        "        self.bn4 = nn.BatchNorm2d(256)\n",
        "        conv_layers += [self.conv4, self.relu4, self.bn4]\n",
        "\n",
        "        # 6th Convolution Block\n",
        "        self.conv5 = nn.Conv2d(256, 128, kernel_size=3, stride=2, padding=1)\n",
        "        self.relu5 = nn.PReLU()\n",
        "        self.bn5 = nn.BatchNorm2d(128)\n",
        "        conv_layers += [self.conv5, self.relu5, self.bn5]\n",
        "\n",
        "\n",
        "        # Dropout Layer\n",
        "        self.drp = nn.Dropout2d(p = 0.4)\n",
        "\n",
        "        # Linear Classifier\n",
        "        self.ap = nn.AdaptiveAvgPool2d(output_size=1)\n",
        "        self.fc = nn.Linear(in_features=128, out_features=64)\n",
        "\n",
        "        # Wrap the Convolutional Blocks\n",
        "        self.fitter = nn.Sequential(*conv_layers, self.drp, self.ap, nn.Flatten(), self.fc, nn.Linear(in_features=64, out_features=10))\n",
        "\n",
        "        self.initialize_weights()\n",
        "\n",
        "\n",
        "    def forward(self, x):\n",
        "\n",
        "        x = x.transpose(1,2)\n",
        "        x.unsqueeze_(1)\n",
        "        out = self.fitter(x)\n",
        "        return out\n",
        "\n",
        "\n",
        "\n",
        "\n",
        "    def initialize_weights(self) :\n",
        "        for m in self.modules() :\n",
        "            if isinstance(m, nn.Conv2d) :\n",
        "                nn.init.kaiming_normal_(m.weight, a = 0.1)\n",
        "\n",
        "                if m.bias is not None :\n",
        "                    nn.init.constant_(m.bias, 0)\n"
      ]
    },
    {
      "cell_type": "code",
      "source": [
        "# resnet\n",
        "\n",
        "CARDINALITY = 32\n",
        "DEPTH = 4\n",
        "BASEWIDTH = 64\n",
        "\n",
        "#\"\"\"The grouped convolutional layer in Fig. 3(c) performs 32 groups\n",
        "#of convolutions whose input and output channels are 4-dimensional.\n",
        "#The grouped convolutional layer concatenates them as the outputs\n",
        "#of the layer.\"\"\"\n",
        "\n",
        "class ResNextBottleNeckC(nn.Module):\n",
        "\n",
        "    def __init__(self, in_channels, out_channels, stride):\n",
        "        super().__init__()\n",
        "\n",
        "        C = CARDINALITY #How many groups a feature map was splitted into\n",
        "\n",
        "        #\"\"\"We note that the input/output width of the template is fixed as\n",
        "        #256-d (Fig. 3), We note that the input/output width of the template\n",
        "        #is fixed as 256-d (Fig. 3), and all widths are dou- bled each time\n",
        "        #when the feature map is subsampled (see Table 1).\"\"\"\n",
        "        D = int(DEPTH * out_channels / BASEWIDTH) #number of channels per group\n",
        "        self.split_transforms = nn.Sequential(\n",
        "            nn.Conv2d(in_channels, C * D, kernel_size=1, groups=C, bias=False),\n",
        "            nn.BatchNorm2d(C * D),\n",
        "            nn.ReLU(inplace=True),\n",
        "            nn.Conv2d(C * D, C * D, kernel_size=3, stride=stride, groups=C, padding=1, bias=False),\n",
        "            nn.BatchNorm2d(C * D),\n",
        "            nn.ReLU(inplace=True),\n",
        "            nn.Conv2d(C * D, out_channels * 4, kernel_size=1, bias=False),\n",
        "            nn.BatchNorm2d(out_channels * 4),\n",
        "        )\n",
        "\n",
        "        self.shortcut = nn.Sequential()\n",
        "\n",
        "        if stride != 1 or in_channels != out_channels * 4:\n",
        "            self.shortcut = nn.Sequential(\n",
        "                nn.Conv2d(in_channels, out_channels * 4, stride=stride, kernel_size=1, bias=False),\n",
        "                nn.BatchNorm2d(out_channels * 4)\n",
        "            )\n",
        "\n",
        "    def forward(self, x):\n",
        "        return F.relu(self.split_transforms(x) + self.shortcut(x))\n",
        "\n",
        "class ResNext(nn.Module):\n",
        "\n",
        "    def __init__(self, block, num_blocks, class_names=100):\n",
        "        super().__init__()\n",
        "        self.in_channels = 64\n",
        "\n",
        "        self.conv1 = nn.Sequential(\n",
        "            nn.Conv2d(1, 64, 3, stride=1, padding=1, bias=False),\n",
        "            nn.BatchNorm2d(64),\n",
        "            nn.ReLU(inplace=True)\n",
        "        )\n",
        "\n",
        "        self.conv2 = self._make_layer(block, num_blocks[0], 64, 1)\n",
        "        self.conv3 = self._make_layer(block, num_blocks[1], 128, 2)\n",
        "        self.conv4 = self._make_layer(block, num_blocks[2], 256, 2)\n",
        "        self.conv5 = self._make_layer(block, num_blocks[3], 512, 2)\n",
        "        self.avg = nn.AdaptiveAvgPool2d((1, 1))\n",
        "        self.fc = nn.Linear(512 * 4, 10)\n",
        "\n",
        "\n",
        "    def forward(self, x):\n",
        "\n",
        "        #x = x.transpose(1,2)\n",
        "        x.unsqueeze_(1)\n",
        "        x = self.conv1(x)\n",
        "        x = self.conv2(x)\n",
        "        x = self.conv3(x)\n",
        "        x = self.conv4(x)\n",
        "        x = self.conv5(x)\n",
        "        x = self.avg(x)\n",
        "        x = x.view(x.size(0), -1)\n",
        "        x = self.fc(x)\n",
        "        return x\n",
        "\n",
        "    def _make_layer(self, block, num_block, out_channels, stride):\n",
        "        \"\"\"Building resnext block\n",
        "        Args:\n",
        "            block: block type(default resnext bottleneck c)\n",
        "            num_block: number of blocks per layer\n",
        "            out_channels: output channels per block\n",
        "            stride: block stride\n",
        "\n",
        "        Returns:\n",
        "            a resnext layer\n",
        "        \"\"\"\n",
        "        strides = [stride] + [1] * (num_block - 1)\n",
        "        layers = []\n",
        "        for stride in strides:\n",
        "            layers.append(block(self.in_channels, out_channels, stride))\n",
        "            self.in_channels = out_channels * 4\n",
        "\n",
        "        return nn.Sequential(*layers)\n",
        "\n",
        "def resnext50():\n",
        "    \"\"\" return a resnext50(c32x4d) network\n",
        "    \"\"\"\n",
        "    return ResNext(ResNextBottleNeckC, [3, 4, 6, 3])\n",
        "\n",
        "def resnext101():\n",
        "    \"\"\" return a resnext101(c32x4d) network\n",
        "    \"\"\"\n",
        "    return ResNext(ResNextBottleNeckC, [3, 4, 23, 3])\n",
        "\n",
        "def resnext152():\n",
        "    \"\"\" return a resnext101(c32x4d) network\n",
        "    \"\"\"\n",
        "    return ResNext(ResNextBottleNeckC, [3, 4, 36, 3])"
      ],
      "metadata": {
        "id": "rycwyDadjBPs"
      },
      "execution_count": 24,
      "outputs": []
    },
    {
      "cell_type": "code",
      "execution_count": 25,
      "metadata": {
        "colab": {
          "base_uri": "https://localhost:8080/"
        },
        "id": "MRGdrz1UJcyW",
        "outputId": "3b761958-6d43-4817-d140-62d6dfd4df8a"
      },
      "outputs": [
        {
          "output_type": "stream",
          "name": "stdout",
          "text": [
            "cuda\n"
          ]
        }
      ],
      "source": [
        "# check the device\n",
        "device = torch.device(\"cuda\" if torch.cuda.is_available() else \"cpu\")\n",
        "print(device)"
      ]
    },
    {
      "cell_type": "markdown",
      "metadata": {
        "id": "1zw_YredJcyX"
      },
      "source": [
        "Build functions which used for training and predicting"
      ]
    },
    {
      "cell_type": "code",
      "execution_count": 26,
      "metadata": {
        "id": "jgyIN2q7JcyX"
      },
      "outputs": [],
      "source": [
        "def training_loop(model, train_dataloader, optimizer, device=device):\n",
        "\n",
        "    model.train() # Sets model to train mode\n",
        "    batch_losses = []\n",
        "\n",
        "    for x_batch, y_batch in train_dataloader:\n",
        "        # Move batches to device\n",
        "        x_batch, y_batch = x_batch.to(device), y_batch.to(device)\n",
        "\n",
        "        # Clear gradients\n",
        "        optimizer.zero_grad()\n",
        "\n",
        "        yhat = model(x_batch)  #predictions on x\n",
        "\n",
        "        # Forward pass\n",
        "        loss = loss_function(yhat, y_batch)\n",
        "\n",
        "        # Backward and optimize\n",
        "        loss.backward()\n",
        "\n",
        "        # Update parameters\n",
        "        optimizer.step()\n",
        "\n",
        "        batch_losses.append(loss.data.item())\n",
        "\n",
        "    train_loss = np.mean(batch_losses)\n",
        "\n",
        "    return train_loss  # Return train_loss and anything else you need\n",
        "\n",
        "def validation_loop(model, val_dataloader, device=device):\n",
        "\n",
        "    model.eval() # Sets model to val mode\n",
        "\n",
        "    batch_losses = []\n",
        "\n",
        "    for x_batch, y_batch in val_dataloader:\n",
        "\n",
        "        x_batch, y_batch = x_batch.to(device), y_batch.to(device)\n",
        "\n",
        "        yhat = model(x_batch)  #predictions on x\n",
        "\n",
        "        loss = loss_function(yhat, y_batch)\n",
        "\n",
        "        batch_losses.append(loss.data.item())\n",
        "\n",
        "    val_loss = np.mean(batch_losses)\n",
        "\n",
        "    return val_loss\n",
        "\n",
        "def train(model, train_dataloader, val_dataloader, optimizer, epochs, device=\"cuda\", patience = None, temp=100):\n",
        "\n",
        "    train_losses = []\n",
        "    val_losses = []\n",
        "\n",
        "    print(f\"Initiating training.\")\n",
        "\n",
        "    # Check if early stop is enabled:\n",
        "    if patience is not None:\n",
        "        # Initialize EarlyStopping\n",
        "        early_stopping = EarlyStopping(patience=patience, verbose=False, path='checkpoint.pt')\n",
        "\n",
        "    for epoch in range(epochs):\n",
        "        # Training loop\n",
        "\n",
        "        train_loss = training_loop(model, train_dataloader, optimizer, device)\n",
        "        train_losses.append(train_loss)\n",
        "\n",
        "        # Validation loop\n",
        "        with torch.no_grad():\n",
        "\n",
        "            val_loss = validation_loop(model, val_dataloader, device)\n",
        "            val_losses.append(val_loss)\n",
        "\n",
        "        if patience != -1:\n",
        "            early_stopping(val_loss, model)\n",
        "\n",
        "            if early_stopping.early_stop:\n",
        "                print(\"Early stop. Going back to the last checkpoint.\")\n",
        "                break\n",
        "\n",
        "        if epoch % temp == 0:\n",
        "            print(f\"[{epoch}/{epochs}] Training loss: {train_loss:.4f}\\t Validation loss: {val_loss:.4f}.\")\n",
        "\n",
        "    if patience != None and early_stopping.early_stop == True:\n",
        "        print('Loading model from checkpoint...')\n",
        "        model.load_state_dict(torch.load('checkpoint.pt'))\n",
        "        print('Checkpoint loaded.')\n",
        "\n",
        "    print(\"training finished.\")\n",
        "\n",
        "    # visualize the loss as the network trained\n",
        "    fig = plt.figure(figsize=(10, 8))\n",
        "    plt.plot(range(1, len(train_losses) + 1), train_losses, label='Training Loss')\n",
        "    plt.plot(range(1, len(val_losses) + 1), val_losses, label='Validation Loss')\n",
        "\n",
        "    # find position of lowest validation loss\n",
        "    minposs = val_losses.index(min(val_losses)) + 1\n",
        "    plt.axvline(minposs, linestyle='--', color='r', label='Early Stopping Checkpoint')\n",
        "\n",
        "    plt.xlabel('epochs')\n",
        "    plt.ylabel('loss')\n",
        "    plt.ylim(0, max(val_losses + train_losses))  # consistent scale\n",
        "    plt.xlim(0, len(train_losses) + 1)  # consistent scale\n",
        "    plt.grid(True)\n",
        "    plt.legend()\n",
        "    plt.tight_layout()\n",
        "    plt.title('Validation and Training Loss of CNN')\n",
        "    plt.show()\n",
        "\n",
        "    return model\n",
        "\n",
        "\n",
        "def predict(model, test_loader, n_features, loss_function, device=device):\n",
        "    # Make predictions using model\n",
        "    preds = []\n",
        "    true_values = []\n",
        "    loss = 0\n",
        "    model.eval()  # prep model for evaluation\n",
        "\n",
        "    with torch.no_grad():\n",
        "        for x_batch, y_batch in test_loader:\n",
        "            # move to device\n",
        "            x_batch, y_batch = x_batch.to(device), y_batch.to(device)\n",
        "\n",
        "            # Make predictions\n",
        "            pred = model(x_batch)\n",
        "\n",
        "            preds.append(np.argmax(pred.cpu().numpy(), axis=1)[0])\n",
        "            true_values.append(y_batch.cpu().numpy()[0])\n",
        "            loss += loss_function(pred, y_batch)\n",
        "\n",
        "        #Calculate Accuracy\n",
        "        accuracy = sum(np.array(preds) == np.array(true_values))/len(true_values)\n",
        "\n",
        "    return preds, true_values, accuracy"
      ]
    },
    {
      "cell_type": "markdown",
      "metadata": {
        "id": "DEvic6k4JcyX"
      },
      "source": [
        "### Resnet Training"
      ]
    },
    {
      "cell_type": "code",
      "execution_count": 27,
      "metadata": {
        "colab": {
          "base_uri": "https://localhost:8080/"
        },
        "id": "-xzihqqiJcyX",
        "outputId": "b8adf5d2-3fe6-4e7a-f5f3-064bbdc8f64c"
      },
      "outputs": [
        {
          "output_type": "execute_result",
          "data": {
            "text/plain": [
              "MelSpecClassifier(\n",
              "  (b1): Sequential(\n",
              "    (0): Conv2d(1, 64, kernel_size=(7, 7), stride=(2, 2), padding=(3, 3))\n",
              "    (1): ReLU()\n",
              "    (2): MaxPool2d(kernel_size=3, stride=2, padding=1, dilation=1, ceil_mode=False)\n",
              "  )\n",
              "  (conv2): Conv2d(64, 256, kernel_size=(3, 3), stride=(2, 2), padding=(1, 1))\n",
              "  (relu2): PReLU(num_parameters=1)\n",
              "  (bn2): BatchNorm2d(256, eps=1e-05, momentum=0.1, affine=True, track_running_stats=True)\n",
              "  (conv3): Conv2d(256, 512, kernel_size=(3, 3), stride=(2, 2), padding=(1, 1))\n",
              "  (relu3): PReLU(num_parameters=1)\n",
              "  (bn3): BatchNorm2d(512, eps=1e-05, momentum=0.1, affine=True, track_running_stats=True)\n",
              "  (conv4): Conv2d(512, 256, kernel_size=(3, 3), stride=(2, 2), padding=(1, 1))\n",
              "  (relu4): PReLU(num_parameters=1)\n",
              "  (bn4): BatchNorm2d(256, eps=1e-05, momentum=0.1, affine=True, track_running_stats=True)\n",
              "  (conv5): Conv2d(256, 128, kernel_size=(3, 3), stride=(2, 2), padding=(1, 1))\n",
              "  (relu5): PReLU(num_parameters=1)\n",
              "  (bn5): BatchNorm2d(128, eps=1e-05, momentum=0.1, affine=True, track_running_stats=True)\n",
              "  (drp): Dropout2d(p=0.4, inplace=False)\n",
              "  (ap): AdaptiveAvgPool2d(output_size=1)\n",
              "  (fc): Linear(in_features=128, out_features=64, bias=True)\n",
              "  (fitter): Sequential(\n",
              "    (0): Sequential(\n",
              "      (0): Conv2d(1, 64, kernel_size=(7, 7), stride=(2, 2), padding=(3, 3))\n",
              "      (1): ReLU()\n",
              "      (2): MaxPool2d(kernel_size=3, stride=2, padding=1, dilation=1, ceil_mode=False)\n",
              "    )\n",
              "    (1): Conv2d(64, 64, kernel_size=(1, 1), stride=(1, 1))\n",
              "    (2): ReLU()\n",
              "    (3): Conv2d(64, 256, kernel_size=(3, 3), stride=(2, 2), padding=(1, 1))\n",
              "    (4): PReLU(num_parameters=1)\n",
              "    (5): BatchNorm2d(256, eps=1e-05, momentum=0.1, affine=True, track_running_stats=True)\n",
              "    (6): Conv2d(256, 512, kernel_size=(3, 3), stride=(2, 2), padding=(1, 1))\n",
              "    (7): PReLU(num_parameters=1)\n",
              "    (8): BatchNorm2d(512, eps=1e-05, momentum=0.1, affine=True, track_running_stats=True)\n",
              "    (9): Conv2d(512, 256, kernel_size=(3, 3), stride=(2, 2), padding=(1, 1))\n",
              "    (10): PReLU(num_parameters=1)\n",
              "    (11): BatchNorm2d(256, eps=1e-05, momentum=0.1, affine=True, track_running_stats=True)\n",
              "    (12): Conv2d(256, 128, kernel_size=(3, 3), stride=(2, 2), padding=(1, 1))\n",
              "    (13): PReLU(num_parameters=1)\n",
              "    (14): BatchNorm2d(128, eps=1e-05, momentum=0.1, affine=True, track_running_stats=True)\n",
              "    (15): Dropout2d(p=0.4, inplace=False)\n",
              "    (16): AdaptiveAvgPool2d(output_size=1)\n",
              "    (17): Flatten(start_dim=1, end_dim=-1)\n",
              "    (18): Linear(in_features=128, out_features=64, bias=True)\n",
              "    (19): Linear(in_features=64, out_features=10, bias=True)\n",
              "  )\n",
              ")"
            ]
          },
          "metadata": {},
          "execution_count": 27
        }
      ],
      "source": [
        "model = MelSpecClassifier()\n",
        "model.to(device)"
      ]
    },
    {
      "cell_type": "code",
      "execution_count": 28,
      "metadata": {
        "id": "CXTZqg3iJcyX"
      },
      "outputs": [],
      "source": [
        "learning_rate = 0.0001\n",
        "weight_decay = 1e-4\n",
        "\n",
        "\n",
        "loss_function = nn.CrossEntropyLoss()\n",
        "optimizer = torch.optim.Adam(model.parameters(), lr = learning_rate, weight_decay = weight_decay)"
      ]
    },
    {
      "cell_type": "code",
      "execution_count": 29,
      "metadata": {
        "colab": {
          "base_uri": "https://localhost:8080/",
          "height": 1000
        },
        "id": "Er4qccEmJcyX",
        "outputId": "83790df5-f576-46d5-843e-1ac725525199"
      },
      "outputs": [
        {
          "output_type": "stream",
          "name": "stdout",
          "text": [
            "Initiating training.\n",
            "[0/1000] Training loss: 2.0615\t Validation loss: 1.9328.\n",
            "[5/1000] Training loss: 1.4317\t Validation loss: 1.4271.\n",
            "[10/1000] Training loss: 1.0595\t Validation loss: 1.1370.\n",
            "[15/1000] Training loss: 0.8283\t Validation loss: 0.9895.\n",
            "[20/1000] Training loss: 0.5677\t Validation loss: 0.7947.\n",
            "EarlyStopping counter: 1 out of 15\n",
            "EarlyStopping counter: 1 out of 15\n",
            "EarlyStopping counter: 1 out of 15\n",
            "[25/1000] Training loss: 0.4092\t Validation loss: 0.7853.\n",
            "EarlyStopping counter: 1 out of 15\n",
            "[30/1000] Training loss: 0.3216\t Validation loss: 0.6816.\n",
            "EarlyStopping counter: 1 out of 15\n",
            "EarlyStopping counter: 2 out of 15\n",
            "EarlyStopping counter: 1 out of 15\n",
            "EarlyStopping counter: 2 out of 15\n",
            "[35/1000] Training loss: 0.2208\t Validation loss: 0.7100.\n",
            "EarlyStopping counter: 1 out of 15\n",
            "EarlyStopping counter: 2 out of 15\n",
            "EarlyStopping counter: 3 out of 15\n",
            "[40/1000] Training loss: 0.1404\t Validation loss: 0.5962.\n",
            "EarlyStopping counter: 1 out of 15\n",
            "EarlyStopping counter: 2 out of 15\n",
            "EarlyStopping counter: 3 out of 15\n",
            "EarlyStopping counter: 4 out of 15\n",
            "EarlyStopping counter: 5 out of 15\n",
            "[45/1000] Training loss: 0.0923\t Validation loss: 0.6034.\n",
            "EarlyStopping counter: 1 out of 15\n",
            "EarlyStopping counter: 2 out of 15\n",
            "EarlyStopping counter: 1 out of 15\n",
            "[50/1000] Training loss: 0.0857\t Validation loss: 0.6465.\n",
            "EarlyStopping counter: 2 out of 15\n",
            "EarlyStopping counter: 3 out of 15\n",
            "EarlyStopping counter: 4 out of 15\n",
            "EarlyStopping counter: 5 out of 15\n",
            "EarlyStopping counter: 6 out of 15\n",
            "[55/1000] Training loss: 0.0591\t Validation loss: 0.5855.\n",
            "EarlyStopping counter: 7 out of 15\n",
            "EarlyStopping counter: 8 out of 15\n",
            "EarlyStopping counter: 9 out of 15\n",
            "EarlyStopping counter: 10 out of 15\n",
            "EarlyStopping counter: 11 out of 15\n",
            "[60/1000] Training loss: 0.0421\t Validation loss: 0.6541.\n",
            "EarlyStopping counter: 12 out of 15\n",
            "EarlyStopping counter: 13 out of 15\n",
            "EarlyStopping counter: 14 out of 15\n",
            "EarlyStopping counter: 15 out of 15\n",
            "Early stop. Going back to the last checkpoint.\n",
            "Loading model from checkpoint...\n",
            "Checkpoint loaded.\n",
            "training finished.\n"
          ]
        },
        {
          "output_type": "display_data",
          "data": {
            "text/plain": [
              "<Figure size 1000x800 with 1 Axes>"
            ],
            "image/png": "[encoded data removed]"
          },
          "metadata": {}
        }
      ],
      "source": [
        "model = train(model, train_dataloader, val_dataloader, optimizer, epochs=1000, device=\"cuda\", patience = 15, temp=5)"
      ]
    },
    {
      "cell_type": "markdown",
      "source": [
        "### Resnet Evaluation"
      ],
      "metadata": {
        "id": "QnDDd4UH1uwS"
      }
    },
    {
      "cell_type": "code",
      "execution_count": 30,
      "metadata": {
        "colab": {
          "base_uri": "https://localhost:8080/"
        },
        "id": "BcyGkTsPJcyX",
        "outputId": "7ec2753c-7b59-40fc-cc15-097ad00deca9"
      },
      "outputs": [
        {
          "output_type": "stream",
          "name": "stdout",
          "text": [
            "              precision    recall  f1-score   support\n",
            "\n",
            "           0       1.00      0.47      0.64        15\n",
            "           1       1.00      0.87      0.93        15\n",
            "           2       0.43      0.60      0.50        15\n",
            "           3       0.62      0.87      0.72        15\n",
            "           4       0.81      0.87      0.84        15\n",
            "           5       0.67      0.80      0.73        15\n",
            "           6       0.88      0.93      0.90        15\n",
            "           7       0.68      0.87      0.76        15\n",
            "           8       0.78      0.47      0.58        15\n",
            "           9       0.70      0.47      0.56        15\n",
            "\n",
            "    accuracy                           0.72       150\n",
            "   macro avg       0.76      0.72      0.72       150\n",
            "weighted avg       0.76      0.72      0.72       150\n",
            "\n"
          ]
        }
      ],
      "source": [
        "preds, true_values, accuracy = predict(model, test_dataloader, n_features=128, loss_function=loss_function, device=device)\n",
        "print(classification_report(true_values, preds))"
      ]
    },
    {
      "cell_type": "markdown",
      "source": [
        "### Google Net Training"
      ],
      "metadata": {
        "id": "jo-x-46O1gsN"
      }
    },
    {
      "cell_type": "code",
      "source": [
        "model = GoogleNet()\n",
        "model.to(device)"
      ],
      "metadata": {
        "colab": {
          "base_uri": "https://localhost:8080/"
        },
        "id": "XeUA13WWo1Nr",
        "outputId": "f453184b-c2b9-402c-c250-a1d7448738d4"
      },
      "execution_count": 33,
      "outputs": [
        {
          "output_type": "execute_result",
          "data": {
            "text/plain": [
              "GoogleNet(\n",
              "  (fitter): Sequential(\n",
              "    (0): Sequential(\n",
              "      (0): Conv2d(1, 64, kernel_size=(7, 7), stride=(2, 2), padding=(3, 3))\n",
              "      (1): ReLU()\n",
              "      (2): MaxPool2d(kernel_size=3, stride=2, padding=1, dilation=1, ceil_mode=False)\n",
              "    )\n",
              "    (1): Sequential(\n",
              "      (0): Conv2d(64, 64, kernel_size=(1, 1), stride=(1, 1))\n",
              "      (1): ReLU()\n",
              "      (2): Conv2d(64, 192, kernel_size=(3, 3), stride=(1, 1), padding=(1, 1))\n",
              "      (3): ReLU()\n",
              "      (4): MaxPool2d(kernel_size=3, stride=2, padding=1, dilation=1, ceil_mode=False)\n",
              "    )\n",
              "    (2): Sequential(\n",
              "      (0): Inception(\n",
              "        (p1_1): Conv2d(192, 64, kernel_size=(1, 1), stride=(1, 1))\n",
              "        (p2_1): Conv2d(192, 96, kernel_size=(1, 1), stride=(1, 1))\n",
              "        (p2_2): Conv2d(96, 128, kernel_size=(3, 3), stride=(1, 1), padding=(1, 1))\n",
              "        (p3_1): Conv2d(192, 16, kernel_size=(1, 1), stride=(1, 1))\n",
              "        (p3_2): Conv2d(16, 32, kernel_size=(5, 5), stride=(1, 1), padding=(2, 2))\n",
              "        (p4_1): MaxPool2d(kernel_size=3, stride=1, padding=1, dilation=1, ceil_mode=False)\n",
              "        (p4_2): Conv2d(192, 32, kernel_size=(1, 1), stride=(1, 1))\n",
              "      )\n",
              "      (1): Inception(\n",
              "        (p1_1): Conv2d(256, 128, kernel_size=(1, 1), stride=(1, 1))\n",
              "        (p2_1): Conv2d(256, 128, kernel_size=(1, 1), stride=(1, 1))\n",
              "        (p2_2): Conv2d(128, 192, kernel_size=(3, 3), stride=(1, 1), padding=(1, 1))\n",
              "        (p3_1): Conv2d(256, 32, kernel_size=(1, 1), stride=(1, 1))\n",
              "        (p3_2): Conv2d(32, 96, kernel_size=(5, 5), stride=(1, 1), padding=(2, 2))\n",
              "        (p4_1): MaxPool2d(kernel_size=3, stride=1, padding=1, dilation=1, ceil_mode=False)\n",
              "        (p4_2): Conv2d(256, 64, kernel_size=(1, 1), stride=(1, 1))\n",
              "      )\n",
              "      (2): MaxPool2d(kernel_size=3, stride=2, padding=1, dilation=1, ceil_mode=False)\n",
              "    )\n",
              "    (3): Sequential(\n",
              "      (0): Inception(\n",
              "        (p1_1): Conv2d(480, 192, kernel_size=(1, 1), stride=(1, 1))\n",
              "        (p2_1): Conv2d(480, 96, kernel_size=(1, 1), stride=(1, 1))\n",
              "        (p2_2): Conv2d(96, 208, kernel_size=(3, 3), stride=(1, 1), padding=(1, 1))\n",
              "        (p3_1): Conv2d(480, 16, kernel_size=(1, 1), stride=(1, 1))\n",
              "        (p3_2): Conv2d(16, 48, kernel_size=(5, 5), stride=(1, 1), padding=(2, 2))\n",
              "        (p4_1): MaxPool2d(kernel_size=3, stride=1, padding=1, dilation=1, ceil_mode=False)\n",
              "        (p4_2): Conv2d(480, 64, kernel_size=(1, 1), stride=(1, 1))\n",
              "      )\n",
              "      (1): Inception(\n",
              "        (p1_1): Conv2d(512, 160, kernel_size=(1, 1), stride=(1, 1))\n",
              "        (p2_1): Conv2d(512, 112, kernel_size=(1, 1), stride=(1, 1))\n",
              "        (p2_2): Conv2d(112, 224, kernel_size=(3, 3), stride=(1, 1), padding=(1, 1))\n",
              "        (p3_1): Conv2d(512, 24, kernel_size=(1, 1), stride=(1, 1))\n",
              "        (p3_2): Conv2d(24, 64, kernel_size=(5, 5), stride=(1, 1), padding=(2, 2))\n",
              "        (p4_1): MaxPool2d(kernel_size=3, stride=1, padding=1, dilation=1, ceil_mode=False)\n",
              "        (p4_2): Conv2d(512, 64, kernel_size=(1, 1), stride=(1, 1))\n",
              "      )\n",
              "      (2): Inception(\n",
              "        (p1_1): Conv2d(512, 128, kernel_size=(1, 1), stride=(1, 1))\n",
              "        (p2_1): Conv2d(512, 128, kernel_size=(1, 1), stride=(1, 1))\n",
              "        (p2_2): Conv2d(128, 256, kernel_size=(3, 3), stride=(1, 1), padding=(1, 1))\n",
              "        (p3_1): Conv2d(512, 24, kernel_size=(1, 1), stride=(1, 1))\n",
              "        (p3_2): Conv2d(24, 64, kernel_size=(5, 5), stride=(1, 1), padding=(2, 2))\n",
              "        (p4_1): MaxPool2d(kernel_size=3, stride=1, padding=1, dilation=1, ceil_mode=False)\n",
              "        (p4_2): Conv2d(512, 64, kernel_size=(1, 1), stride=(1, 1))\n",
              "      )\n",
              "      (3): Inception(\n",
              "        (p1_1): Conv2d(512, 112, kernel_size=(1, 1), stride=(1, 1))\n",
              "        (p2_1): Conv2d(512, 144, kernel_size=(1, 1), stride=(1, 1))\n",
              "        (p2_2): Conv2d(144, 288, kernel_size=(3, 3), stride=(1, 1), padding=(1, 1))\n",
              "        (p3_1): Conv2d(512, 32, kernel_size=(1, 1), stride=(1, 1))\n",
              "        (p3_2): Conv2d(32, 64, kernel_size=(5, 5), stride=(1, 1), padding=(2, 2))\n",
              "        (p4_1): MaxPool2d(kernel_size=3, stride=1, padding=1, dilation=1, ceil_mode=False)\n",
              "        (p4_2): Conv2d(512, 64, kernel_size=(1, 1), stride=(1, 1))\n",
              "      )\n",
              "      (4): Inception(\n",
              "        (p1_1): Conv2d(528, 256, kernel_size=(1, 1), stride=(1, 1))\n",
              "        (p2_1): Conv2d(528, 160, kernel_size=(1, 1), stride=(1, 1))\n",
              "        (p2_2): Conv2d(160, 320, kernel_size=(3, 3), stride=(1, 1), padding=(1, 1))\n",
              "        (p3_1): Conv2d(528, 32, kernel_size=(1, 1), stride=(1, 1))\n",
              "        (p3_2): Conv2d(32, 128, kernel_size=(5, 5), stride=(1, 1), padding=(2, 2))\n",
              "        (p4_1): MaxPool2d(kernel_size=3, stride=1, padding=1, dilation=1, ceil_mode=False)\n",
              "        (p4_2): Conv2d(528, 128, kernel_size=(1, 1), stride=(1, 1))\n",
              "      )\n",
              "      (5): MaxPool2d(kernel_size=3, stride=2, padding=1, dilation=1, ceil_mode=False)\n",
              "    )\n",
              "    (4): Sequential(\n",
              "      (0): Inception(\n",
              "        (p1_1): Conv2d(832, 256, kernel_size=(1, 1), stride=(1, 1))\n",
              "        (p2_1): Conv2d(832, 160, kernel_size=(1, 1), stride=(1, 1))\n",
              "        (p2_2): Conv2d(160, 320, kernel_size=(3, 3), stride=(1, 1), padding=(1, 1))\n",
              "        (p3_1): Conv2d(832, 32, kernel_size=(1, 1), stride=(1, 1))\n",
              "        (p3_2): Conv2d(32, 128, kernel_size=(5, 5), stride=(1, 1), padding=(2, 2))\n",
              "        (p4_1): MaxPool2d(kernel_size=3, stride=1, padding=1, dilation=1, ceil_mode=False)\n",
              "        (p4_2): Conv2d(832, 128, kernel_size=(1, 1), stride=(1, 1))\n",
              "      )\n",
              "      (1): Inception(\n",
              "        (p1_1): Conv2d(832, 384, kernel_size=(1, 1), stride=(1, 1))\n",
              "        (p2_1): Conv2d(832, 192, kernel_size=(1, 1), stride=(1, 1))\n",
              "        (p2_2): Conv2d(192, 384, kernel_size=(3, 3), stride=(1, 1), padding=(1, 1))\n",
              "        (p3_1): Conv2d(832, 48, kernel_size=(1, 1), stride=(1, 1))\n",
              "        (p3_2): Conv2d(48, 128, kernel_size=(5, 5), stride=(1, 1), padding=(2, 2))\n",
              "        (p4_1): MaxPool2d(kernel_size=3, stride=1, padding=1, dilation=1, ceil_mode=False)\n",
              "        (p4_2): Conv2d(832, 128, kernel_size=(1, 1), stride=(1, 1))\n",
              "      )\n",
              "      (2): AdaptiveAvgPool2d(output_size=(1, 1))\n",
              "      (3): Flatten(start_dim=1, end_dim=-1)\n",
              "    )\n",
              "    (5): Linear(in_features=1024, out_features=128, bias=True)\n",
              "    (6): Dropout(p=0.25, inplace=False)\n",
              "    (7): Linear(in_features=128, out_features=10, bias=True)\n",
              "  )\n",
              ")"
            ]
          },
          "metadata": {},
          "execution_count": 33
        }
      ]
    },
    {
      "cell_type": "code",
      "source": [
        "learning_rate = 0.0001\n",
        "weight_decay = 1e-4\n",
        "\n",
        "\n",
        "loss_function = nn.CrossEntropyLoss()\n",
        "optimizer = torch.optim.Adam(model.parameters(), lr = learning_rate, weight_decay = weight_decay)\n",
        "model = train(model, train_dataloader, val_dataloader, optimizer, epochs=1000, device=\"cuda\", patience = 15, temp=5)"
      ],
      "metadata": {
        "colab": {
          "base_uri": "https://localhost:8080/"
        },
        "id": "UtPuQ9NzpAiF",
        "outputId": "3c507ab1-978d-4e8b-e6df-5db786882747"
      },
      "execution_count": null,
      "outputs": [
        {
          "output_type": "stream",
          "name": "stdout",
          "text": [
            "Initiating training.\n",
            "[0/1000] Training loss: 3.3090\t Validation loss: 2.3104.\n",
            "[5/1000] Training loss: 2.6856\t Validation loss: 2.2521.\n",
            "EarlyStopping counter: 1 out of 15\n",
            "[10/1000] Training loss: 2.2362\t Validation loss: 2.2217.\n",
            "EarlyStopping counter: 1 out of 15\n",
            "[15/1000] Training loss: 2.2221\t Validation loss: 2.2080.\n",
            "EarlyStopping counter: 1 out of 15\n",
            "EarlyStopping counter: 2 out of 15\n",
            "EarlyStopping counter: 1 out of 15\n",
            "[20/1000] Training loss: 2.2098\t Validation loss: 2.2053.\n",
            "EarlyStopping counter: 1 out of 15\n",
            "[25/1000] Training loss: 2.2054\t Validation loss: 2.1919.\n",
            "EarlyStopping counter: 1 out of 15\n",
            "EarlyStopping counter: 2 out of 15\n",
            "EarlyStopping counter: 3 out of 15\n",
            "[30/1000] Training loss: 2.2042\t Validation loss: 2.1921.\n",
            "EarlyStopping counter: 1 out of 15\n",
            "EarlyStopping counter: 1 out of 15\n",
            "[35/1000] Training loss: 2.1846\t Validation loss: 2.1733.\n",
            "EarlyStopping counter: 1 out of 15\n",
            "[40/1000] Training loss: 2.1710\t Validation loss: 2.1485.\n",
            "[45/1000] Training loss: 2.1597\t Validation loss: 2.1266.\n",
            "EarlyStopping counter: 1 out of 15\n",
            "EarlyStopping counter: 1 out of 15\n",
            "[50/1000] Training loss: 2.1282\t Validation loss: 2.1119.\n",
            "EarlyStopping counter: 1 out of 15\n",
            "[55/1000] Training loss: 2.1193\t Validation loss: 2.0874.\n",
            "EarlyStopping counter: 1 out of 15\n",
            "EarlyStopping counter: 1 out of 15\n",
            "[60/1000] Training loss: 2.0989\t Validation loss: 2.0696.\n",
            "EarlyStopping counter: 1 out of 15\n",
            "[65/1000] Training loss: 2.0671\t Validation loss: 2.0385.\n",
            "EarlyStopping counter: 1 out of 15\n",
            "EarlyStopping counter: 1 out of 15\n",
            "[70/1000] Training loss: 2.0554\t Validation loss: 2.0264.\n",
            "EarlyStopping counter: 1 out of 15\n",
            "EarlyStopping counter: 1 out of 15\n",
            "EarlyStopping counter: 2 out of 15\n",
            "[75/1000] Training loss: 2.0415\t Validation loss: 2.0001.\n",
            "EarlyStopping counter: 1 out of 15\n",
            "EarlyStopping counter: 1 out of 15\n",
            "EarlyStopping counter: 1 out of 15\n",
            "[80/1000] Training loss: 2.0369\t Validation loss: 1.9935.\n",
            "EarlyStopping counter: 1 out of 15\n",
            "EarlyStopping counter: 1 out of 15\n",
            "[85/1000] Training loss: 1.9890\t Validation loss: 1.9592.\n",
            "EarlyStopping counter: 1 out of 15\n",
            "[90/1000] Training loss: 1.9666\t Validation loss: 1.9421.\n",
            "EarlyStopping counter: 1 out of 15\n",
            "EarlyStopping counter: 1 out of 15\n",
            "[95/1000] Training loss: 1.9545\t Validation loss: 1.9319.\n",
            "EarlyStopping counter: 2 out of 15\n",
            "EarlyStopping counter: 1 out of 15\n",
            "EarlyStopping counter: 2 out of 15\n",
            "EarlyStopping counter: 3 out of 15\n",
            "[100/1000] Training loss: 1.9428\t Validation loss: 1.9451.\n",
            "EarlyStopping counter: 4 out of 15\n",
            "EarlyStopping counter: 1 out of 15\n",
            "[105/1000] Training loss: 1.9185\t Validation loss: 1.8907.\n",
            "EarlyStopping counter: 1 out of 15\n",
            "EarlyStopping counter: 1 out of 15\n",
            "EarlyStopping counter: 2 out of 15\n",
            "[110/1000] Training loss: 1.9117\t Validation loss: 1.9036.\n",
            "EarlyStopping counter: 3 out of 15\n",
            "EarlyStopping counter: 1 out of 15\n",
            "EarlyStopping counter: 1 out of 15\n",
            "[115/1000] Training loss: 1.8949\t Validation loss: 1.8751.\n",
            "EarlyStopping counter: 1 out of 15\n",
            "EarlyStopping counter: 1 out of 15\n",
            "[120/1000] Training loss: 1.8815\t Validation loss: 1.8661.\n",
            "EarlyStopping counter: 1 out of 15\n",
            "EarlyStopping counter: 2 out of 15\n",
            "EarlyStopping counter: 3 out of 15\n",
            "EarlyStopping counter: 4 out of 15\n",
            "[125/1000] Training loss: 1.8352\t Validation loss: 1.8565.\n",
            "EarlyStopping counter: 5 out of 15\n",
            "[130/1000] Training loss: 1.8240\t Validation loss: 1.8093.\n",
            "EarlyStopping counter: 1 out of 15\n",
            "EarlyStopping counter: 1 out of 15\n",
            "[135/1000] Training loss: 1.8065\t Validation loss: 1.7936.\n",
            "EarlyStopping counter: 1 out of 15\n",
            "EarlyStopping counter: 2 out of 15\n",
            "EarlyStopping counter: 3 out of 15\n",
            "EarlyStopping counter: 4 out of 15\n",
            "[140/1000] Training loss: 1.8244\t Validation loss: 1.8111.\n",
            "EarlyStopping counter: 1 out of 15\n",
            "EarlyStopping counter: 2 out of 15\n",
            "[145/1000] Training loss: 1.7925\t Validation loss: 1.7798.\n",
            "EarlyStopping counter: 1 out of 15\n",
            "EarlyStopping counter: 2 out of 15\n",
            "EarlyStopping counter: 3 out of 15\n",
            "[150/1000] Training loss: 1.7557\t Validation loss: 1.7559.\n",
            "EarlyStopping counter: 1 out of 15\n",
            "EarlyStopping counter: 1 out of 15\n",
            "EarlyStopping counter: 2 out of 15\n",
            "[155/1000] Training loss: 1.7438\t Validation loss: 1.7502.\n",
            "[160/1000] Training loss: 1.7599\t Validation loss: 1.7195.\n",
            "EarlyStopping counter: 1 out of 15\n",
            "EarlyStopping counter: 2 out of 15\n",
            "EarlyStopping counter: 1 out of 15\n",
            "EarlyStopping counter: 2 out of 15\n",
            "[165/1000] Training loss: 1.7318\t Validation loss: 1.7998.\n",
            "EarlyStopping counter: 1 out of 15\n",
            "EarlyStopping counter: 2 out of 15\n",
            "[170/1000] Training loss: 1.7080\t Validation loss: 1.6968.\n",
            "EarlyStopping counter: 1 out of 15\n",
            "EarlyStopping counter: 2 out of 15\n",
            "[175/1000] Training loss: 1.6715\t Validation loss: 1.6716.\n",
            "EarlyStopping counter: 1 out of 15\n",
            "EarlyStopping counter: 2 out of 15\n",
            "EarlyStopping counter: 1 out of 15\n",
            "[180/1000] Training loss: 1.6751\t Validation loss: 1.6565.\n",
            "EarlyStopping counter: 2 out of 15\n",
            "EarlyStopping counter: 3 out of 15\n",
            "EarlyStopping counter: 1 out of 15\n",
            "EarlyStopping counter: 2 out of 15\n",
            "[185/1000] Training loss: 1.6695\t Validation loss: 1.6570.\n",
            "EarlyStopping counter: 1 out of 15\n",
            "EarlyStopping counter: 2 out of 15\n",
            "EarlyStopping counter: 3 out of 15\n",
            "[190/1000] Training loss: 1.6687\t Validation loss: 1.6332.\n",
            "EarlyStopping counter: 1 out of 15\n",
            "EarlyStopping counter: 2 out of 15\n",
            "EarlyStopping counter: 3 out of 15\n",
            "EarlyStopping counter: 4 out of 15\n",
            "[195/1000] Training loss: 1.6267\t Validation loss: 1.6258.\n",
            "EarlyStopping counter: 1 out of 15\n",
            "EarlyStopping counter: 1 out of 15\n",
            "EarlyStopping counter: 2 out of 15\n",
            "[200/1000] Training loss: 1.6135\t Validation loss: 1.6115.\n",
            "EarlyStopping counter: 1 out of 15\n",
            "EarlyStopping counter: 2 out of 15\n",
            "[205/1000] Training loss: 1.6394\t Validation loss: 1.5886.\n",
            "EarlyStopping counter: 1 out of 15\n",
            "EarlyStopping counter: 2 out of 15\n",
            "EarlyStopping counter: 1 out of 15\n",
            "EarlyStopping counter: 2 out of 15\n",
            "[210/1000] Training loss: 1.5894\t Validation loss: 1.6040.\n",
            "EarlyStopping counter: 1 out of 15\n",
            "EarlyStopping counter: 2 out of 15\n",
            "EarlyStopping counter: 3 out of 15\n",
            "[215/1000] Training loss: 1.6054\t Validation loss: 1.6079.\n",
            "EarlyStopping counter: 1 out of 15\n",
            "EarlyStopping counter: 2 out of 15\n",
            "EarlyStopping counter: 3 out of 15\n",
            "[220/1000] Training loss: 1.5686\t Validation loss: 1.5644.\n",
            "EarlyStopping counter: 1 out of 15\n",
            "EarlyStopping counter: 1 out of 15\n",
            "[225/1000] Training loss: 1.5568\t Validation loss: 1.5646.\n",
            "EarlyStopping counter: 2 out of 15\n",
            "EarlyStopping counter: 1 out of 15\n",
            "EarlyStopping counter: 1 out of 15\n",
            "[230/1000] Training loss: 1.5259\t Validation loss: 1.5654.\n",
            "EarlyStopping counter: 2 out of 15\n",
            "EarlyStopping counter: 3 out of 15\n",
            "EarlyStopping counter: 4 out of 15\n",
            "EarlyStopping counter: 5 out of 15\n",
            "EarlyStopping counter: 6 out of 15\n",
            "[235/1000] Training loss: 1.5622\t Validation loss: 1.6333.\n",
            "EarlyStopping counter: 7 out of 15\n",
            "EarlyStopping counter: 1 out of 15\n",
            "EarlyStopping counter: 2 out of 15\n",
            "EarlyStopping counter: 3 out of 15\n",
            "[240/1000] Training loss: 1.5158\t Validation loss: 1.5869.\n",
            "EarlyStopping counter: 4 out of 15\n",
            "[245/1000] Training loss: 1.5309\t Validation loss: 1.5115.\n",
            "EarlyStopping counter: 1 out of 15\n",
            "EarlyStopping counter: 2 out of 15\n",
            "EarlyStopping counter: 1 out of 15\n",
            "[250/1000] Training loss: 1.5405\t Validation loss: 1.5089.\n",
            "EarlyStopping counter: 1 out of 15\n",
            "EarlyStopping counter: 2 out of 15\n",
            "[255/1000] Training loss: 1.5078\t Validation loss: 1.4996.\n",
            "EarlyStopping counter: 1 out of 15\n",
            "EarlyStopping counter: 2 out of 15\n",
            "EarlyStopping counter: 3 out of 15\n",
            "[260/1000] Training loss: 1.5032\t Validation loss: 1.4827.\n",
            "EarlyStopping counter: 1 out of 15\n",
            "EarlyStopping counter: 1 out of 15\n",
            "EarlyStopping counter: 2 out of 15\n",
            "[265/1000] Training loss: 1.5020\t Validation loss: 1.4787.\n",
            "EarlyStopping counter: 1 out of 15\n",
            "EarlyStopping counter: 2 out of 15\n",
            "EarlyStopping counter: 3 out of 15\n",
            "EarlyStopping counter: 1 out of 15\n",
            "[270/1000] Training loss: 1.4716\t Validation loss: 1.4957.\n",
            "EarlyStopping counter: 2 out of 15\n",
            "EarlyStopping counter: 3 out of 15\n",
            "EarlyStopping counter: 4 out of 15\n",
            "EarlyStopping counter: 5 out of 15\n",
            "[275/1000] Training loss: 1.4622\t Validation loss: 1.4688.\n",
            "EarlyStopping counter: 1 out of 15\n",
            "EarlyStopping counter: 1 out of 15\n",
            "EarlyStopping counter: 2 out of 15\n",
            "EarlyStopping counter: 3 out of 15\n",
            "[280/1000] Training loss: 1.4993\t Validation loss: 1.5159.\n",
            "EarlyStopping counter: 1 out of 15\n",
            "EarlyStopping counter: 1 out of 15\n",
            "[285/1000] Training loss: 1.4549\t Validation loss: 1.5069.\n",
            "EarlyStopping counter: 2 out of 15\n",
            "EarlyStopping counter: 3 out of 15\n",
            "EarlyStopping counter: 1 out of 15\n",
            "[290/1000] Training loss: 1.4203\t Validation loss: 1.4575.\n",
            "EarlyStopping counter: 1 out of 15\n",
            "EarlyStopping counter: 2 out of 15\n",
            "EarlyStopping counter: 3 out of 15\n",
            "EarlyStopping counter: 4 out of 15\n",
            "[295/1000] Training loss: 1.4259\t Validation loss: 1.4755.\n",
            "EarlyStopping counter: 1 out of 15\n",
            "EarlyStopping counter: 2 out of 15\n"
          ]
        }
      ]
    },
    {
      "cell_type": "code",
      "source": [
        "preds, true_values, accuracy = predict(model, test_dataloader, n_features=128, loss_function=loss_function, device=device)\n",
        "print(classification_report(true_values, preds))"
      ],
      "metadata": {
        "id": "iyoylgv0pLmL"
      },
      "execution_count": null,
      "outputs": []
    },
    {
      "cell_type": "code",
      "source": [
        "classlist = list(codes.keys())\n",
        "\n",
        "# Plotting confusion matrices for small and big data\n",
        "fig, ax = plt.subplots(nrows=1, ncols=1, figsize=(12, 5))  # Set up the figure\n",
        "\n",
        "\n",
        "y_ = [true_values]\n",
        "preds_lst = [preds]\n",
        "titles = ['Test Data (mel 128 features)']\n",
        "for i in range(1):\n",
        "    actual = y_[i]\n",
        "    predicted =preds_lst[i]  # get the prediction for each model (each loop)\n",
        "\n",
        "    confusion_matrix = metrics.confusion_matrix(np.array(actual), np.array(predicted))\n",
        "    cm_display = metrics.ConfusionMatrixDisplay(confusion_matrix=confusion_matrix)\n",
        "    cm_display.plot(ax=ax)\n",
        "    ax.set_xticklabels(classlist, rotation=45)\n",
        "    ax.set_yticklabels(classlist)\n",
        "    ax.set_title(titles[i])\n",
        "\n",
        "fig.suptitle('CNN model prediction on test data')\n",
        "plt.show()"
      ],
      "metadata": {
        "colab": {
          "base_uri": "https://localhost:8080/",
          "height": 552
        },
        "id": "9RHF4LqP3hkX",
        "outputId": "2f74789f-cade-4d16-e255-767909a1f71b"
      },
      "execution_count": 31,
      "outputs": [
        {
          "output_type": "display_data",
          "data": {
            "text/plain": [
              "<Figure size 1200x500 with 2 Axes>"
            ],
            "image/png": "[encoded data removed]"
          },
          "metadata": {}
        }
      ]
    },
    {
      "cell_type": "code",
      "source": [
        "y_, sr_ = librosa.load('/content/THIRD WORLD - 96 DEGREES IN THE SHADE.mp3')\n",
        "mel_ = librosa.feature.melspectrogram(y=y_, sr=sr_, n_mels= 128, fmax=8000).T\n",
        "mfcc_ = librosa.feature.mfcc(y=y_, sr=sr_, n_mfcc=128).T\n",
        "mel_ = np.add(mel_, mfcc_)\n",
        "length_ = np.shape(mel_[:,0])[0]\n",
        "length_ = length_ // 1320\n",
        "print(length_)\n",
        "tes = []\n",
        "for i in range(length_):\n",
        "  tes.append(mel_[i*1320:(i+1)*1320,:])"
      ],
      "metadata": {
        "colab": {
          "base_uri": "https://localhost:8080/"
        },
        "id": "4T6MzhSVm6AH",
        "outputId": "98d1536f-074a-48ae-f75a-b2b3c7f9d64a"
      },
      "execution_count": null,
      "outputs": [
        {
          "output_type": "stream",
          "name": "stdout",
          "text": [
            "8\n"
          ]
        }
      ]
    },
    {
      "cell_type": "code",
      "source": [
        "pred = []\n",
        "for i in range(length_):\n",
        "  pred.append(model(torch.Tensor([tes[i]]).to(device)))\n",
        "  print(pred)\n",
        "ans = pred[0]\n",
        "for i in range(length_ -1):\n",
        "  ans = ans + pred[i+1]\n",
        "#print(ans)"
      ],
      "metadata": {
        "colab": {
          "base_uri": "https://localhost:8080/"
        },
        "id": "eDVBdgtym-5N",
        "outputId": "db9e2b2f-2ed3-498e-f0bf-44751e0dab92"
      },
      "execution_count": null,
      "outputs": [
        {
          "output_type": "stream",
          "name": "stdout",
          "text": [
            "[tensor([[-3.4351,  1.6587,  0.5230,  0.2914,  6.3364, -5.3623, -0.8316,  2.2590,\n",
            "          1.1091,  0.0327]], device='cuda:0', grad_fn=<AddmmBackward0>)]\n",
            "[tensor([[-3.4351,  1.6587,  0.5230,  0.2914,  6.3364, -5.3623, -0.8316,  2.2590,\n",
            "          1.1091,  0.0327]], device='cuda:0', grad_fn=<AddmmBackward0>), tensor([[-1.2707, -0.7338,  0.0467,  1.9942,  2.8669, -0.0357, -0.1927, -2.2041,\n",
            "          8.3265, -2.7957]], device='cuda:0', grad_fn=<AddmmBackward0>)]\n",
            "[tensor([[-3.4351,  1.6587,  0.5230,  0.2914,  6.3364, -5.3623, -0.8316,  2.2590,\n",
            "          1.1091,  0.0327]], device='cuda:0', grad_fn=<AddmmBackward0>), tensor([[-1.2707, -0.7338,  0.0467,  1.9942,  2.8669, -0.0357, -0.1927, -2.2041,\n",
            "          8.3265, -2.7957]], device='cuda:0', grad_fn=<AddmmBackward0>), tensor([[-0.9945, -1.0767,  0.9137,  2.4762,  2.4395, -1.2131, -0.7910, -1.6851,\n",
            "          6.3682, -1.6999]], device='cuda:0', grad_fn=<AddmmBackward0>)]\n",
            "[tensor([[-3.4351,  1.6587,  0.5230,  0.2914,  6.3364, -5.3623, -0.8316,  2.2590,\n",
            "          1.1091,  0.0327]], device='cuda:0', grad_fn=<AddmmBackward0>), tensor([[-1.2707, -0.7338,  0.0467,  1.9942,  2.8669, -0.0357, -0.1927, -2.2041,\n",
            "          8.3265, -2.7957]], device='cuda:0', grad_fn=<AddmmBackward0>), tensor([[-0.9945, -1.0767,  0.9137,  2.4762,  2.4395, -1.2131, -0.7910, -1.6851,\n",
            "          6.3682, -1.6999]], device='cuda:0', grad_fn=<AddmmBackward0>), tensor([[-1.1365, -0.3083,  0.9877,  1.3403,  1.9732, -0.8871, -0.1320, -0.8246,\n",
            "          3.7265, -1.5405]], device='cuda:0', grad_fn=<AddmmBackward0>)]\n",
            "[tensor([[-3.4351,  1.6587,  0.5230,  0.2914,  6.3364, -5.3623, -0.8316,  2.2590,\n",
            "          1.1091,  0.0327]], device='cuda:0', grad_fn=<AddmmBackward0>), tensor([[-1.2707, -0.7338,  0.0467,  1.9942,  2.8669, -0.0357, -0.1927, -2.2041,\n",
            "          8.3265, -2.7957]], device='cuda:0', grad_fn=<AddmmBackward0>), tensor([[-0.9945, -1.0767,  0.9137,  2.4762,  2.4395, -1.2131, -0.7910, -1.6851,\n",
            "          6.3682, -1.6999]], device='cuda:0', grad_fn=<AddmmBackward0>), tensor([[-1.1365, -0.3083,  0.9877,  1.3403,  1.9732, -0.8871, -0.1320, -0.8246,\n",
            "          3.7265, -1.5405]], device='cuda:0', grad_fn=<AddmmBackward0>), tensor([[-0.3341, -1.0265, -0.0810,  1.7654,  1.3936,  0.6470, -0.1684, -2.0619,\n",
            "          7.3932, -2.5197]], device='cuda:0', grad_fn=<AddmmBackward0>)]\n",
            "[tensor([[-3.4351,  1.6587,  0.5230,  0.2914,  6.3364, -5.3623, -0.8316,  2.2590,\n",
            "          1.1091,  0.0327]], device='cuda:0', grad_fn=<AddmmBackward0>), tensor([[-1.2707, -0.7338,  0.0467,  1.9942,  2.8669, -0.0357, -0.1927, -2.2041,\n",
            "          8.3265, -2.7957]], device='cuda:0', grad_fn=<AddmmBackward0>), tensor([[-0.9945, -1.0767,  0.9137,  2.4762,  2.4395, -1.2131, -0.7910, -1.6851,\n",
            "          6.3682, -1.6999]], device='cuda:0', grad_fn=<AddmmBackward0>), tensor([[-1.1365, -0.3083,  0.9877,  1.3403,  1.9732, -0.8871, -0.1320, -0.8246,\n",
            "          3.7265, -1.5405]], device='cuda:0', grad_fn=<AddmmBackward0>), tensor([[-0.3341, -1.0265, -0.0810,  1.7654,  1.3936,  0.6470, -0.1684, -2.0619,\n",
            "          7.3932, -2.5197]], device='cuda:0', grad_fn=<AddmmBackward0>), tensor([[-1.5646, -0.7113,  0.7270,  2.8134,  2.2044, -0.2717, -0.2783, -1.6880,\n",
            "          6.3160, -2.1023]], device='cuda:0', grad_fn=<AddmmBackward0>)]\n",
            "[tensor([[-3.4351,  1.6587,  0.5230,  0.2914,  6.3364, -5.3623, -0.8316,  2.2590,\n",
            "          1.1091,  0.0327]], device='cuda:0', grad_fn=<AddmmBackward0>), tensor([[-1.2707, -0.7338,  0.0467,  1.9942,  2.8669, -0.0357, -0.1927, -2.2041,\n",
            "          8.3265, -2.7957]], device='cuda:0', grad_fn=<AddmmBackward0>), tensor([[-0.9945, -1.0767,  0.9137,  2.4762,  2.4395, -1.2131, -0.7910, -1.6851,\n",
            "          6.3682, -1.6999]], device='cuda:0', grad_fn=<AddmmBackward0>), tensor([[-1.1365, -0.3083,  0.9877,  1.3403,  1.9732, -0.8871, -0.1320, -0.8246,\n",
            "          3.7265, -1.5405]], device='cuda:0', grad_fn=<AddmmBackward0>), tensor([[-0.3341, -1.0265, -0.0810,  1.7654,  1.3936,  0.6470, -0.1684, -2.0619,\n",
            "          7.3932, -2.5197]], device='cuda:0', grad_fn=<AddmmBackward0>), tensor([[-1.5646, -0.7113,  0.7270,  2.8134,  2.2044, -0.2717, -0.2783, -1.6880,\n",
            "          6.3160, -2.1023]], device='cuda:0', grad_fn=<AddmmBackward0>), tensor([[-1.0396, -0.4768,  1.1456,  1.9008,  1.1373, -0.7877, -0.0748, -0.5326,\n",
            "          3.3597, -1.3370]], device='cuda:0', grad_fn=<AddmmBackward0>)]\n",
            "[tensor([[-3.4351,  1.6587,  0.5230,  0.2914,  6.3364, -5.3623, -0.8316,  2.2590,\n",
            "          1.1091,  0.0327]], device='cuda:0', grad_fn=<AddmmBackward0>), tensor([[-1.2707, -0.7338,  0.0467,  1.9942,  2.8669, -0.0357, -0.1927, -2.2041,\n",
            "          8.3265, -2.7957]], device='cuda:0', grad_fn=<AddmmBackward0>), tensor([[-0.9945, -1.0767,  0.9137,  2.4762,  2.4395, -1.2131, -0.7910, -1.6851,\n",
            "          6.3682, -1.6999]], device='cuda:0', grad_fn=<AddmmBackward0>), tensor([[-1.1365, -0.3083,  0.9877,  1.3403,  1.9732, -0.8871, -0.1320, -0.8246,\n",
            "          3.7265, -1.5405]], device='cuda:0', grad_fn=<AddmmBackward0>), tensor([[-0.3341, -1.0265, -0.0810,  1.7654,  1.3936,  0.6470, -0.1684, -2.0619,\n",
            "          7.3932, -2.5197]], device='cuda:0', grad_fn=<AddmmBackward0>), tensor([[-1.5646, -0.7113,  0.7270,  2.8134,  2.2044, -0.2717, -0.2783, -1.6880,\n",
            "          6.3160, -2.1023]], device='cuda:0', grad_fn=<AddmmBackward0>), tensor([[-1.0396, -0.4768,  1.1456,  1.9008,  1.1373, -0.7877, -0.0748, -0.5326,\n",
            "          3.3597, -1.3370]], device='cuda:0', grad_fn=<AddmmBackward0>), tensor([[-1.8218, -0.4820,  0.3619,  1.7913,  1.9540, -1.0539,  0.2917, -0.5562,\n",
            "          3.0933, -0.4753]], device='cuda:0', grad_fn=<AddmmBackward0>)]\n"
          ]
        }
      ]
    },
    {
      "cell_type": "code",
      "source": [
        "np.argmax(ans.tolist())"
      ],
      "metadata": {
        "colab": {
          "base_uri": "https://localhost:8080/"
        },
        "id": "fcJussjHnElK",
        "outputId": "8baf2e28-0b8b-4b73-d15c-ea25f9ab376b"
      },
      "execution_count": null,
      "outputs": [
        {
          "output_type": "execute_result",
          "data": {
            "text/plain": [
              "8"
            ]
          },
          "metadata": {},
          "execution_count": 67
        }
      ]
    },
    {
      "cell_type": "code",
      "source": [
        "#print(ans.tolist())\n",
        "\n",
        "def normalization(data):\n",
        "    _range = np.max(data) - np.min(data)\n",
        "    return (data - np.min(data)) / _range\n",
        "\n",
        "data = normalization(ans.tolist())\n",
        "print(data[0])"
      ],
      "metadata": {
        "colab": {
          "base_uri": "https://localhost:8080/"
        },
        "id": "qEVg2Xdy32AG",
        "outputId": "5acc918c-7fc3-4740-ef38-febc9894e4ed"
      },
      "execution_count": null,
      "outputs": [
        {
          "output_type": "stream",
          "name": "stdout",
          "text": [
            "[0.01613067 0.17803606 0.32730128 0.51430102 0.62809952 0.06662456\n",
            " 0.19682692 0.09868068 1.         0.        ]\n"
          ]
        }
      ]
    },
    {
      "cell_type": "code",
      "source": [
        "\n",
        "x_data =['blues',\n",
        "    'classical',\n",
        "    'country',\n",
        "    'disco',\n",
        "    'hiphop',\n",
        "    'jazz',\n",
        "    'metal',\n",
        "    'pop',\n",
        "    'reggae',\n",
        "    'rock']\n",
        "y_data = data[0]\n",
        "\n",
        "\n",
        "for i in range(len(x_data)):\n",
        "\tplt.bar(x_data[i], y_data[i])\n",
        "\n",
        "plt.title(\"show results\")\n",
        "# x\n",
        "plt.xlabel(\"genres\")\n",
        "# y\n",
        "plt.ylabel(\"scores\")\n",
        "\n",
        "plt.show()\n"
      ],
      "metadata": {
        "colab": {
          "base_uri": "https://localhost:8080/",
          "height": 472
        },
        "id": "oV7yG0_-5N1t",
        "outputId": "5dd74488-71b4-4fa2-870e-826e5c130e72"
      },
      "execution_count": null,
      "outputs": [
        {
          "output_type": "display_data",
          "data": {
            "text/plain": [
              "<Figure size 640x480 with 1 Axes>"
            ],
            "image/png": "[encoded data removed]"
          },
          "metadata": {}
        }
      ]
    },
    {
      "cell_type": "code",
      "source": [
        "\n",
        "y_, sr_ = librosa.load('/content/drive/MyDrive/archive/Data/genres_original/jazz/jazz.00001.wav')\n",
        "mel_ = librosa.feature.melspectrogram(y=y_, sr=sr_, n_mels= 128, fmax=8000).T\n",
        "mfcc_ = librosa.feature.mfcc(y=y_, sr=sr_, n_mfcc=128).T\n",
        "mel_ = np.add(mel_, mfcc_)\n",
        "length_ = np.shape(mel_[:,0])[0]\n",
        "length_ = (length_ // 1320) + 1\n",
        "print(length_)\n",
        "tes = []\n",
        "for i in range(length_):\n",
        "  tes.append(mel_[i*1320:(i+1)*1320,:])\n"
      ],
      "metadata": {
        "colab": {
          "base_uri": "https://localhost:8080/"
        },
        "id": "RQfCihoryG7J",
        "outputId": "1f6fd9f0-6ab6-4d15-f301-24b1e16a37b0"
      },
      "execution_count": null,
      "outputs": [
        {
          "output_type": "stream",
          "name": "stdout",
          "text": [
            "1\n"
          ]
        }
      ]
    },
    {
      "cell_type": "code",
      "source": [
        "\n",
        "pred = []\n",
        "for i in range(length_):\n",
        "  pred.append(model(torch.Tensor([tes[i]]).to(device)))\n",
        "  print(pred)\n",
        "ans = pred[0]\n",
        "for i in range(length_ -1):\n",
        "  ans = ans + pred[i+1]\n",
        "print(ans)\n"
      ],
      "metadata": {
        "colab": {
          "base_uri": "https://localhost:8080/"
        },
        "id": "THptcwKiySNN",
        "outputId": "98e0769f-b513-41f8-d876-38045b1cf6e5"
      },
      "execution_count": null,
      "outputs": [
        {
          "output_type": "stream",
          "name": "stdout",
          "text": [
            "[tensor([[ 0.3543,  2.9794,  1.1868, -2.3959, -2.7729,  5.4432, -1.0649, -0.4221,\n",
            "          1.0324, -2.6728]], device='cuda:0', grad_fn=<AddmmBackward0>)]\n",
            "tensor([[ 0.3543,  2.9794,  1.1868, -2.3959, -2.7729,  5.4432, -1.0649, -0.4221,\n",
            "          1.0324, -2.6728]], device='cuda:0', grad_fn=<AddmmBackward0>)\n"
          ]
        }
      ]
    },
    {
      "cell_type": "code",
      "source": [
        "np.argmax(ans.tolist())"
      ],
      "metadata": {
        "colab": {
          "base_uri": "https://localhost:8080/"
        },
        "id": "b07Pjih0yYe0",
        "outputId": "aae1a503-6df1-48b6-ea2c-4dc3ad224121"
      },
      "execution_count": null,
      "outputs": [
        {
          "output_type": "execute_result",
          "data": {
            "text/plain": [
              "5"
            ]
          },
          "metadata": {},
          "execution_count": 77
        }
      ]
    },
    {
      "cell_type": "code",
      "source": [
        "data = normalization(ans.tolist())\n",
        "print(data[0])"
      ],
      "metadata": {
        "colab": {
          "base_uri": "https://localhost:8080/"
        },
        "id": "wouvvhkMwgtM",
        "outputId": "89b6245d-f303-4594-c275-cff76be2e3a4"
      },
      "execution_count": null,
      "outputs": [
        {
          "output_type": "stream",
          "name": "stdout",
          "text": [
            "[0.38062012 0.70012138 0.48194151 0.04588759 0.         1.\n",
            " 0.20788531 0.2861241  0.46314534 0.01217658]\n"
          ]
        }
      ]
    },
    {
      "cell_type": "code",
      "source": [
        "x_data =['blues',\n",
        "    'classical',\n",
        "    'country',\n",
        "    'disco',\n",
        "    'hiphop',\n",
        "    'jazz',\n",
        "    'metal',\n",
        "    'pop',\n",
        "    'reggae',\n",
        "    'rock']\n",
        "y_data = data[0]\n",
        "\n",
        "\n",
        "for i in range(len(x_data)):\n",
        "\tplt.bar(x_data[i], y_data[i])\n",
        "\n",
        "plt.title(\"show results\")\n",
        "# x\n",
        "plt.xlabel(\"genres\")\n",
        "# y\n",
        "plt.ylabel(\"scores\")\n",
        "\n",
        "plt.show()"
      ],
      "metadata": {
        "colab": {
          "base_uri": "https://localhost:8080/",
          "height": 472
        },
        "id": "dp0Lou8BwqC9",
        "outputId": "3dad3eb1-e9a6-47c4-a4b0-744dde1f8957"
      },
      "execution_count": null,
      "outputs": [
        {
          "output_type": "display_data",
          "data": {
            "text/plain": [
              "<Figure size 640x480 with 1 Axes>"
            ],
            "image/png": "[encoded data removed]"
          },
          "metadata": {}
        }
      ]
    }
  ],
  "metadata": {
    "kernelspec": {
      "display_name": "Python 3",
      "name": "python3"
    },
    "language_info": {
      "codemirror_mode": {
        "name": "ipython",
        "version": 3
      },
      "file_extension": ".py",
      "mimetype": "text/x-python",
      "name": "python",
      "nbconvert_exporter": "python",
      "pygments_lexer": "ipython3",
      "version": "3.9.17"
    },
    "orig_nbformat": 4,
    "colab": {
      "provenance": [],
      "machine_shape": "hm",
      "gpuType": "T4"
    },
    "accelerator": "GPU"
  },
  "nbformat": 4,
  "nbformat_minor": 0
}